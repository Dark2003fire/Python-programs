{
 "cells": [
  {
   "cell_type": "code",
   "execution_count": 6,
   "id": "1341db72",
   "metadata": {},
   "outputs": [
    {
     "name": "stdout",
     "output_type": "stream",
     "text": [
      "(10, 20, 30, 40)\n",
      "(10, 20, 30, 'h', 'i', 't', 'e', 's', 'H')\n",
      "(20, 30, 40)\n",
      "40\n"
     ]
    }
   ],
   "source": [
    "#Tuples:-\n",
    "\n",
    "tuple1 = (10,20,30,40)\n",
    "print(tuple1)\n",
    "\n",
    "tuple2 = (10,20,30,\"h\" ,\"i\" , 't' , 'e' , 's' ,'H')\n",
    "print(tuple2)\n",
    "\n",
    "type(tuple2)\n",
    "\n",
    "print(tuple1[1:4])\n",
    "\n",
    "print(tuple1[-1])\n"
   ]
  },
  {
   "cell_type": "code",
   "execution_count": 11,
   "id": "916f6e07",
   "metadata": {},
   "outputs": [
    {
     "name": "stdout",
     "output_type": "stream",
     "text": [
      "8\n",
      "Noor\n",
      "Pune\n"
     ]
    }
   ],
   "source": [
    "#Tuple Assignment:-\n",
    "\n",
    "coachx = (8 ,'Noor' , \"Pune\")\n",
    "(id, name  , city) = coachx\n",
    "\n",
    "print(id)\n",
    "print(name)\n",
    "print(city)\n"
   ]
  },
  {
   "cell_type": "code",
   "execution_count": 13,
   "id": "7b1866da",
   "metadata": {},
   "outputs": [
    {
     "name": "stdout",
     "output_type": "stream",
     "text": [
      "(10, 20)\n"
     ]
    },
    {
     "ename": "NameError",
     "evalue": "name 't1' is not defined",
     "output_type": "error",
     "traceback": [
      "\u001b[1;31m---------------------------------------------------------------------------\u001b[0m",
      "\u001b[1;31mNameError\u001b[0m                                 Traceback (most recent call last)",
      "Input \u001b[1;32mIn [13]\u001b[0m, in \u001b[0;36m<cell line: 7>\u001b[1;34m()\u001b[0m\n\u001b[0;32m      4\u001b[0m \u001b[38;5;28mprint\u001b[39m(t1)\n\u001b[0;32m      6\u001b[0m \u001b[38;5;28;01mdel\u001b[39;00m t1\n\u001b[1;32m----> 7\u001b[0m \u001b[38;5;28mprint\u001b[39m(\u001b[43mt1\u001b[49m)\n",
      "\u001b[1;31mNameError\u001b[0m: name 't1' is not defined"
     ]
    }
   ],
   "source": [
    "#Deleting the tuples:-\n",
    "\n",
    "t1 = (10,20)\n",
    "print(t1)\n",
    "\n",
    "del t1\n",
    "print(t1)\n"
   ]
  },
  {
   "cell_type": "code",
   "execution_count": 19,
   "id": "84098905",
   "metadata": {},
   "outputs": [
    {
     "name": "stdout",
     "output_type": "stream",
     "text": [
      "(1, 2)\n"
     ]
    }
   ],
   "source": [
    "a = (1,2,3,4,5 ,6)\n",
    "b = a[:2]\n",
    "print(b)\n",
    "\n",
    "\n",
    "\n",
    "\n",
    "\n"
   ]
  },
  {
   "cell_type": "code",
   "execution_count": 20,
   "id": "716b3ecb",
   "metadata": {},
   "outputs": [
    {
     "name": "stdout",
     "output_type": "stream",
     "text": [
      "(1, 2, 3, [4, 5, 6], 7, 8, 9, [10, 11, 12])\n"
     ]
    }
   ],
   "source": [
    "t2 = (1,2,3,[4,5,6,],7,8,9,[10,11,12])\n",
    "print(t2)"
   ]
  },
  {
   "cell_type": "code",
   "execution_count": 7,
   "id": "f1ac1bf5",
   "metadata": {},
   "outputs": [
    {
     "name": "stdout",
     "output_type": "stream",
     "text": [
      "{1, 2, 3, 4, 5}\n",
      "<class 'set'>\n",
      "{'Black', 'Red', 'Blue', 'Green'}\n",
      "{1, 2, 3, 4, 5}\n",
      "{1, 2, 3, 4, 5, 6, 7, 8, 9}\n"
     ]
    }
   ],
   "source": [
    "#Sets:-\n",
    "\n",
    "Set = {1,2,3,4,5}\n",
    "print(Set)\n",
    "\n",
    "print(type(Set))\n",
    "\n",
    "color = {'Red' , 'Green' , 'Blue' , 'Black'}\n",
    "print(color)\n",
    "\n",
    "\n",
    "set1 = {1,1,2,2,3,3,4,4,5,5}\n",
    "print(set1)\n",
    "\n",
    "s = set(range(1,10))\n",
    "\n",
    "print(s)\n",
    "\n",
    "\n",
    "\n"
   ]
  },
  {
   "cell_type": "code",
   "execution_count": 8,
   "id": "4d90819f",
   "metadata": {},
   "outputs": [
    {
     "ename": "TypeError",
     "evalue": "'set' object is not subscriptable",
     "output_type": "error",
     "traceback": [
      "\u001b[1;31m---------------------------------------------------------------------------\u001b[0m",
      "\u001b[1;31mTypeError\u001b[0m                                 Traceback (most recent call last)",
      "Input \u001b[1;32mIn [8]\u001b[0m, in \u001b[0;36m<cell line: 3>\u001b[1;34m()\u001b[0m\n\u001b[0;32m      1\u001b[0m \u001b[38;5;66;03m#Accessing the value in the set\u001b[39;00m\n\u001b[1;32m----> 3\u001b[0m \u001b[38;5;28mprint\u001b[39m(\u001b[43mset1\u001b[49m\u001b[43m[\u001b[49m\u001b[38;5;241;43m0\u001b[39;49m\u001b[43m]\u001b[49m)\n",
      "\u001b[1;31mTypeError\u001b[0m: 'set' object is not subscriptable"
     ]
    }
   ],
   "source": [
    "#Accessing the value in the set\n",
    "\n",
    "print(set1[0])\n"
   ]
  },
  {
   "cell_type": "code",
   "execution_count": 11,
   "id": "da558b60",
   "metadata": {},
   "outputs": [
    {
     "name": "stdout",
     "output_type": "stream",
     "text": [
      "{'Sat', 'Thur', 'Mon', 'Tues', 'Fri', 'Wed'}\n",
      "Sat\n",
      "Thur\n",
      "Mon\n",
      "Tues\n",
      "Fri\n",
      "Wed\n"
     ]
    }
   ],
   "source": [
    "days = set(['Mon' , 'Tues' , 'Wed' , 'Thur' , 'Fri' , 'Sat'])\n",
    "print(days)\n",
    "\n",
    "for i in days:\n",
    "    print(i)\n",
    "    \n"
   ]
  },
  {
   "cell_type": "code",
   "execution_count": 15,
   "id": "b71e895e",
   "metadata": {},
   "outputs": [
    {
     "name": "stdout",
     "output_type": "stream",
     "text": [
      "{'c', 'b', 'e', 'a', 'f'}\n",
      "None\n",
      "None\n",
      "c\n",
      "{'e', 'f'}\n"
     ]
    }
   ],
   "source": [
    "#FrozenSet:-\n",
    "#Delete the values in the set:-\n",
    "\n",
    "b = {'a' , 'b' , 'c' , 'e' , 'f'}\n",
    "print(b)\n",
    "\n",
    "\n",
    "print(b.discard('b'))\n",
    "\n",
    "print(b.remove('a'))\n",
    "\n",
    "print(b.pop())\n",
    "\n",
    "print(b)\n"
   ]
  },
  {
   "cell_type": "code",
   "execution_count": 19,
   "id": "de6f87cc",
   "metadata": {},
   "outputs": [
    {
     "name": "stdout",
     "output_type": "stream",
     "text": [
      "{1, 2, 3, 4, 5}\n",
      "None\n",
      "{1, 2, 3, 4, 5, 6}\n",
      "None\n",
      "{1, 2, 3, 4, 5, 6, 7, 8}\n"
     ]
    }
   ],
   "source": [
    "#Update the sets:--\n",
    "\n",
    "s1 = {1,2,3,4,5}\n",
    "print(s1)\n",
    "print(s1.add(6))\n",
    "\n",
    "print(s1)\n",
    "\n",
    "print(s1.update({7,8}))\n",
    "print(s1)\n"
   ]
  },
  {
   "cell_type": "code",
   "execution_count": 20,
   "id": "b4c6cf67",
   "metadata": {},
   "outputs": [
    {
     "name": "stdout",
     "output_type": "stream",
     "text": [
      "{1, 2, 3, 4, 5, 6, 8}\n"
     ]
    }
   ],
   "source": [
    "#union Operations of set:-\n",
    "\n",
    "A = {1,2,3,4,5,8}\n",
    "B = {1,2,3,4,5,6}\n",
    "\n",
    "C = A|B\n",
    "print(C)\n"
   ]
  },
  {
   "cell_type": "code",
   "execution_count": 22,
   "id": "ba3f5ed6",
   "metadata": {},
   "outputs": [
    {
     "name": "stdout",
     "output_type": "stream",
     "text": [
      "{'Wednesday'}\n"
     ]
    }
   ],
   "source": [
    "#Intersection of Sets:--\n",
    "\n",
    "Day1 = set([\"Monday\" , \"Tuesday\" , \"Wednesday\"])\n",
    "Day2 = set([\"Wednesday\" ,\"Thursday\" , \"Friday\"])\n",
    "\n",
    "AllDays = Day1&Day2\n",
    "\n",
    "print(AllDays)\n"
   ]
  },
  {
   "cell_type": "code",
   "execution_count": 25,
   "id": "287b3fd0",
   "metadata": {},
   "outputs": [
    {
     "name": "stdout",
     "output_type": "stream",
     "text": [
      "{8, 9}\n",
      "{4, 5}\n"
     ]
    }
   ],
   "source": [
    "#Difference of the sets\n",
    "\n",
    "\n",
    "A = {1,2,3,4,5}\n",
    "B = {1,2,3,8,9}\n",
    "\n",
    "C = B-A\n",
    "C1 = A-B\n",
    "print(C)\n",
    "print(C1)\n"
   ]
  },
  {
   "cell_type": "code",
   "execution_count": 26,
   "id": "16e188ba",
   "metadata": {},
   "outputs": [
    {
     "name": "stdout",
     "output_type": "stream",
     "text": [
      "{3, 8}\n"
     ]
    }
   ],
   "source": [
    "#Symmetric Difference :-\n",
    " (A-B) union (B-A)\n",
    "\n",
    "A = {1,2,4,5,6,8}\n",
    "B = {1,2,3,4,5,6}\n",
    "\n",
    "\n",
    "C = A^B\n",
    "\n",
    "print(C)\n"
   ]
  },
  {
   "cell_type": "code",
   "execution_count": 27,
   "id": "5876c022",
   "metadata": {},
   "outputs": [
    {
     "name": "stdout",
     "output_type": "stream",
     "text": [
      "union of A and B : {'Violet', 'Blue', 'Yellow', 'Green', 'red'}\n",
      "Intersection of A and B: {'Yellow'}\n",
      "Difference of A and B {'Green', 'red'}\n",
      "Symmetric Difference of A and B : {'Green', 'Violet', 'Blue', 'red'}\n",
      "Disjoint of the sets False\n",
      "Subset of set  False\n",
      "Superset of Set False\n"
     ]
    }
   ],
   "source": [
    "#Functions of the Sets:--\n",
    "\n",
    "A = {'red' , 'Yellow' , 'Green'}\n",
    "B = {'Blue' , 'Yellow' , 'Violet'}\n",
    "\n",
    "print(\"union of A and B :\" , A.union(B))\n",
    "\n",
    "print(\"Intersection of A and B:\" , A.intersection(B))\n",
    "\n",
    "print(\"Difference of A and B\" ,A.difference(B))\n",
    "\n",
    "\n",
    "print(\"Symmetric Difference of A and B :\" , A.symmetric_difference(B))\n",
    "\n",
    "print(\"Disjoint of the sets :\" , A.isdisjoint(B))\n",
    "\n",
    "print(\"Subset of set : \"  , A.issubset(B))\n",
    "\n",
    "print(\"Superset of Set :\" , A.issuperset(B))\n",
    "\n",
    "\n",
    "\n",
    "\n",
    "\n",
    "\n",
    "\n",
    "\n",
    "\n",
    "\n",
    "\n",
    "\n",
    "\n",
    "\n",
    "\n",
    "\n",
    "\n",
    "\n",
    "\n",
    "\n",
    "\n",
    "\n",
    "\n",
    "\n",
    "\n"
   ]
  },
  {
   "cell_type": "code",
   "execution_count": 33,
   "id": "ceed1b8a",
   "metadata": {},
   "outputs": [
    {
     "name": "stdout",
     "output_type": "stream",
     "text": [
      "{1: 'Ahana', 2: 'Simona', 3: 'Amit', 4: 'Adhish', 5: 'Harmindar', 6: 'Durgesh', 7: 'Noor', 8: 'Hitesh'}\n",
      "{'Days': ['Monday', 'Tuesday', 'Wednesday'], 'Month': ['Jan', 'Feb', 'March']}\n",
      "{'Names': ('TCS', 'Wipro', 'Google'), 'Location': ('Pune', 'Pune', 'Pune')}\n"
     ]
    }
   ],
   "source": [
    "#Dictionaries:--Key:Value\n",
    "\n",
    "d1 = {1:'Ahana' , 2:'Simona' , 3:'Amit' , 4:\"Adhish\",\n",
    "     5:'Harmindar' ,6:'Durgesh' ,7:'Noor' , 8:'Hitesh'}\n",
    "\n",
    "print(d1)\n",
    "\n",
    "\n",
    "d2 = {\"Days\":['Monday' , 'Tuesday' , 'Wednesday'] , \"Month\" : ['Jan' , 'Feb' , 'March']}\n",
    "\n",
    "print(d2)\n",
    "\n",
    "\n",
    "\n",
    "d3 = {\"Names\":('TCS' ,'Wipro' ,'Google') , \"Location\":('Pune' , 'Pune' ,'Pune')}\n",
    "print(d3)\n",
    "\n",
    "\n"
   ]
  },
  {
   "cell_type": "code",
   "execution_count": 38,
   "id": "55d0586a",
   "metadata": {},
   "outputs": [
    {
     "name": "stdout",
     "output_type": "stream",
     "text": [
      "('TCS', 'Wipro', 'Google')\n",
      "Ahana\n",
      "Adhish\n",
      "Harmindar\n"
     ]
    }
   ],
   "source": [
    "#Accessing the values in the Disctionary:--\n",
    "print(d3.get('Names'))\n",
    "\n",
    "\n",
    "print(d1.get(1))\n",
    "\n",
    "print(d1[4])\n",
    "\n",
    "print(d1[5])\n",
    "\n"
   ]
  },
  {
   "cell_type": "code",
   "execution_count": 53,
   "id": "d6d92013",
   "metadata": {},
   "outputs": [
    {
     "ename": "KeyError",
     "evalue": "'Month'",
     "output_type": "error",
     "traceback": [
      "\u001b[1;31m---------------------------------------------------------------------------\u001b[0m",
      "\u001b[1;31mKeyError\u001b[0m                                  Traceback (most recent call last)",
      "Input \u001b[1;32mIn [53]\u001b[0m, in \u001b[0;36m<cell line: 11>\u001b[1;34m()\u001b[0m\n\u001b[0;32m      1\u001b[0m \u001b[38;5;66;03m#Delete the elements from the dictionary:--\u001b[39;00m\n\u001b[0;32m      2\u001b[0m \n\u001b[0;32m      3\u001b[0m \u001b[38;5;66;03m#print(d1.popitem())\u001b[39;00m\n\u001b[1;32m   (...)\u001b[0m\n\u001b[0;32m      6\u001b[0m \n\u001b[0;32m      7\u001b[0m \u001b[38;5;66;03m#print(d4.pop(2))\u001b[39;00m\n\u001b[0;32m      9\u001b[0m d4 \u001b[38;5;241m=\u001b[39m {\u001b[38;5;241m1\u001b[39m:\u001b[38;5;124m\"\u001b[39m\u001b[38;5;124mSession\u001b[39m\u001b[38;5;124m\"\u001b[39m , \u001b[38;5;241m2\u001b[39m:\u001b[38;5;124m\"\u001b[39m\u001b[38;5;124mis Boring\u001b[39m\u001b[38;5;124m\"\u001b[39m}\n\u001b[1;32m---> 11\u001b[0m \u001b[38;5;28mprint\u001b[39m(\u001b[43md2\u001b[49m\u001b[38;5;241;43m.\u001b[39;49m\u001b[43mpop\u001b[49m\u001b[43m(\u001b[49m\u001b[38;5;124;43m\"\u001b[39;49m\u001b[38;5;124;43mMonth\u001b[39;49m\u001b[38;5;124;43m\"\u001b[39;49m\u001b[43m)\u001b[49m)\n\u001b[0;32m     13\u001b[0m \u001b[38;5;28mprint\u001b[39m(d3\u001b[38;5;241m.\u001b[39mpop())\n",
      "\u001b[1;31mKeyError\u001b[0m: 'Month'"
     ]
    }
   ],
   "source": [
    "#Delete the elements from the dictionary:--\n",
    "\n",
    "#print(d1.popitem())\n",
    "#print(d1)\n",
    "\n",
    "\n",
    "#print(d4.pop(2))\n",
    "\n",
    "d4 = {1:\"Session\" , 2:\"is Boring\"}\n",
    "\n",
    "print(d2.pop(\"Month\"))\n",
    "\n",
    "print(d3.pop()) #it will not work"
   ]
  },
  {
   "cell_type": "code",
   "execution_count": 55,
   "id": "7bf6bc16",
   "metadata": {},
   "outputs": [
    {
     "name": "stdout",
     "output_type": "stream",
     "text": [
      "{'name': 'Suman', 'age': '24'}\n",
      "{'name': 'Suman', 'age': 25}\n",
      "{'name': 'Suman', 'age': 25, 'Address': 'UP'}\n"
     ]
    }
   ],
   "source": [
    "#Updating of the dictionary\n",
    "\n",
    "di1 = {'name':'Suman' , 'age' : '24'}\n",
    "print(di1)\n",
    "di1['age'] = 25\n",
    "print(di1)\n",
    "\n",
    "di1['Address'] = 'UP'\n",
    "\n",
    "print(di1)\n"
   ]
  },
  {
   "cell_type": "code",
   "execution_count": 60,
   "id": "80506713",
   "metadata": {},
   "outputs": [
    {
     "name": "stdout",
     "output_type": "stream",
     "text": [
      "{1: 1, 2: 4, 3: 9, 4: 16, 5: 25}\n",
      "True\n",
      "False\n",
      "False\n"
     ]
    }
   ],
   "source": [
    "#Basic Operation on Disctionary:-\n",
    "\n",
    "#1) Membership test:--\n",
    "\n",
    "Squares = {1:1 , 2:4 , 3:9 , 4:16  , 5:25}\n",
    "print(Squares)\n",
    "print(1 in Squares)\n",
    "\n",
    "print('Hitesh' in Squares)\n",
    "\n",
    "print(25 in Squares)"
   ]
  },
  {
   "cell_type": "code",
   "execution_count": 63,
   "id": "2ea91cad",
   "metadata": {},
   "outputs": [
    {
     "name": "stdout",
     "output_type": "stream",
     "text": [
      "1 : 1\n",
      "2 : 4\n",
      "3 : 9\n",
      "4 : 16\n",
      "5 : 25\n"
     ]
    }
   ],
   "source": [
    "#traversing of the disctionary:--\n",
    "squares = {1:1 , 2:4 , 3:9 , 4:16  , 5:25}\n",
    "\n",
    "for i in squares:\n",
    "    print(i   , \":\", squares[i])\n",
    "    \n"
   ]
  },
  {
   "cell_type": "code",
   "execution_count": 64,
   "id": "467de817",
   "metadata": {},
   "outputs": [
    {
     "name": "stdout",
     "output_type": "stream",
     "text": [
      "{'name': 'Position', 'age': 'Position', 'Address': 'Position'}\n"
     ]
    }
   ],
   "source": [
    "#Built in functions in Dictionary:-\n",
    "\n",
    "d1 = d1.fromkeys(['name' ,'age' ,'Address'] , 'Position')\n",
    "print(d1)\n",
    "\n",
    "\n"
   ]
  },
  {
   "cell_type": "code",
   "execution_count": null,
   "id": "03b9baf6",
   "metadata": {},
   "outputs": [],
   "source": [
    "#You have to explore around 10 function in Dictionary\n",
    "\n"
   ]
  }
 ],
 "metadata": {
  "kernelspec": {
   "display_name": "Python 3 (ipykernel)",
   "language": "python",
   "name": "python3"
  },
  "language_info": {
   "codemirror_mode": {
    "name": "ipython",
    "version": 3
   },
   "file_extension": ".py",
   "mimetype": "text/x-python",
   "name": "python",
   "nbconvert_exporter": "python",
   "pygments_lexer": "ipython3",
   "version": "3.9.7"
  }
 },
 "nbformat": 4,
 "nbformat_minor": 5
}
