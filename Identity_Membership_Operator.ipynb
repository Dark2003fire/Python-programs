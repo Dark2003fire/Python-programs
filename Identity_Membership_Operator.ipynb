{
 "cells": [
  {
   "cell_type": "code",
   "execution_count": 1,
   "id": "422f56ee",
   "metadata": {},
   "outputs": [
    {
     "name": "stdout",
     "output_type": "stream",
     "text": [
      "False\n"
     ]
    }
   ],
   "source": [
    "#Idenity Operators:--\n",
    "\"\"\"\n",
    "This Operator will check if my boht the Operands are same or not.\n",
    "is \n",
    "is no\n",
    "        \n",
    "\"\"\"\n",
    "a = 3\n",
    "b = 4\n",
    "print(a is b)"
   ]
  },
  {
   "cell_type": "code",
   "execution_count": 2,
   "id": "e82d8251",
   "metadata": {},
   "outputs": [
    {
     "name": "stdout",
     "output_type": "stream",
     "text": [
      "True\n",
      "False\n"
     ]
    }
   ],
   "source": [
    "x = 4\n",
    "y = 4\n",
    "print(x is y)\n",
    "print(x is not y)"
   ]
  },
  {
   "cell_type": "code",
   "execution_count": 3,
   "id": "151a5ecc",
   "metadata": {},
   "outputs": [
    {
     "name": "stdout",
     "output_type": "stream",
     "text": [
      "True\n",
      "False\n"
     ]
    }
   ],
   "source": [
    "num1 = 100\n",
    "num2 = num1\n",
    "\n",
    "print(num1 == num2)\n",
    "\n",
    "print(num1 is not num2)\n",
    "\n"
   ]
  },
  {
   "cell_type": "code",
   "execution_count": 4,
   "id": "2e9300fd",
   "metadata": {},
   "outputs": [
    {
     "name": "stdout",
     "output_type": "stream",
     "text": [
      "False\n",
      "True\n",
      "True\n",
      "False\n"
     ]
    }
   ],
   "source": [
    "x = [1,2,3]\n",
    "y = [1,2,3]\n",
    "\n",
    "print(x is y)\n",
    "\n",
    "\n",
    "x1 = (1,2,3)\n",
    "y1 = (1,2,3)\n",
    "\n",
    "print(x1 is not y1)\n",
    "\n",
    "\n",
    "s1 = 'Hello'\n",
    "s2 = 'Hello'\n",
    "\n",
    "print(s1 is s2)\n",
    "\n",
    "\n",
    "\n",
    "\n",
    "d1 = {'Hello' : 1}\n",
    "d2 = {'Hello' : 2}\n",
    "\n",
    "print(d1 is d2)\n"
   ]
  },
  {
   "cell_type": "code",
   "execution_count": 29,
   "id": "1b03f1ba",
   "metadata": {},
   "outputs": [
    {
     "name": "stdout",
     "output_type": "stream",
     "text": [
      "True\n",
      "False\n",
      "True\n",
      "True\n",
      "2 5 True\n",
      "2 5 False\n"
     ]
    }
   ],
   "source": [
    "#Membership Operators:-\n",
    "\n",
    "\"\"\"\n",
    "It is used to find the existence of particular element in the Sequence like string , list , dictionary\n",
    "tuple and etc.\n",
    "\n",
    "\n",
    "Two Membership Operator :\n",
    "1) in\n",
    "2) not in\n",
    "\"\"\"\n",
    "\n",
    "s = \"Hello World\"\n",
    "\n",
    "print(\"H\" in s)\n",
    "\n",
    "print(\"h\" in s)\n",
    "print(\"d\" in s)\n",
    "\n",
    "d = {1: \"a\" , 2:\"b\" , 3:\"c\"}\n",
    "print(1 in d)\n",
    "\n",
    "\n",
    "\n",
    "print(2  ,5  , 3 in d)\n",
    "print(2  ,5  , 3 not in d)\n",
    "\n"
   ]
  },
  {
   "cell_type": "code",
   "execution_count": 30,
   "id": "f5cd1e20",
   "metadata": {},
   "outputs": [
    {
     "data": {
      "text/plain": [
       "'\\nWhat do you mean by Dry Run?\\n-----> A dry run is the process of a programmer manually working through their code to trace the value of\\nvariable.\\n\\n\\n\\n'"
      ]
     },
     "execution_count": 30,
     "metadata": {},
     "output_type": "execute_result"
    }
   ],
   "source": [
    "#Dry Run :--\n",
    "\n",
    "\"\"\"\n",
    "What do you mean by Dry Run?\n",
    "-----> A dry run is the process of a programmer manually working through their code to trace the value of\n",
    "variable.\n",
    "\n",
    "\n",
    "\n",
    "\"\"\"\n",
    "A = 60\n",
    "B = 30\n",
    "\n",
    "\n",
    "C = A+B\n",
    "\n",
    "print(C)\n",
    "\n",
    "\n"
   ]
  },
  {
   "cell_type": "code",
   "execution_count": 31,
   "id": "1e2a690f",
   "metadata": {},
   "outputs": [
    {
     "name": "stdout",
     "output_type": "stream",
     "text": [
      "5 16 81\n"
     ]
    }
   ],
   "source": [
    "x = 5\n",
    "y = 10\n",
    "d = 0\n",
    "d = x+y+(x*y) = 65+16 = 81\n",
    "y = y+6\n",
    "d = d+y(y =16)\n",
    "print(x ,y , d)\n",
    "\n"
   ]
  },
  {
   "cell_type": "code",
   "execution_count": 32,
   "id": "de9d4e8e",
   "metadata": {},
   "outputs": [
    {
     "name": "stdout",
     "output_type": "stream",
     "text": [
      "Enter you age :24\n",
      "24\n"
     ]
    }
   ],
   "source": [
    "#Q1)  Taking a age from user and display it\n",
    "\n",
    "age = int(input(\"Enter you age :\"))\n",
    "print(age)\n",
    "\n"
   ]
  },
  {
   "cell_type": "code",
   "execution_count": 36,
   "id": "09c18b21",
   "metadata": {},
   "outputs": [
    {
     "name": "stdout",
     "output_type": "stream",
     "text": [
      "1234\n",
      "5.0\n"
     ]
    }
   ],
   "source": [
    "print(int('1234'))\n",
    "\n",
    "#print float with number 5\n",
    "\n",
    "print(float('5'))\n"
   ]
  },
  {
   "cell_type": "code",
   "execution_count": 37,
   "id": "1f5494fa",
   "metadata": {},
   "outputs": [
    {
     "name": "stdout",
     "output_type": "stream",
     "text": [
      "5\n"
     ]
    }
   ],
   "source": [
    "#eval() function evluate the expressions provided the input is string\n",
    "\n",
    "fn = eval('2+3')\n",
    "print(fn)\n",
    "\n"
   ]
  },
  {
   "cell_type": "code",
   "execution_count": 41,
   "id": "9e7b2865",
   "metadata": {},
   "outputs": [
    {
     "name": "stdout",
     "output_type": "stream",
     "text": [
      "Enter the number :that you wanted to find the Sqaure of144\n",
      "12.0\n"
     ]
    }
   ],
   "source": [
    "#program to find the Square root of a number(user)\n",
    "\n",
    "num = int(input(\"Enter the number :that you wanted to find the Sqaure of\"))\n",
    "d = eval('1/2')\n",
    "ans = eval('num**d')\n",
    "#ans1 =  num**0.5\n",
    "print(ans)\n",
    "#print(ans1)"
   ]
  },
  {
   "cell_type": "code",
   "execution_count": 43,
   "id": "701e1bfa",
   "metadata": {},
   "outputs": [
    {
     "name": "stdout",
     "output_type": "stream",
     "text": [
      "Enter length of the rectangle: 2\n",
      "Enter the breadth of the rectangle: 5\n",
      "14.0\n"
     ]
    }
   ],
   "source": [
    "#Program to find the perimeter of rectangle(user)\n",
    "\n",
    "l = float(input(\"Enter length of the rectangle: \"))\n",
    "b = float(input(\"Enter the breadth of the rectangle: \"))\n",
    "\n",
    "Perimeter = eval('2*(l+b)')\n",
    "print(Perimeter)\n",
    "\n",
    "\n",
    "\n",
    "\n"
   ]
  },
  {
   "cell_type": "code",
   "execution_count": 44,
   "id": "c5d618d6",
   "metadata": {},
   "outputs": [
    {
     "name": "stdout",
     "output_type": "stream",
     "text": [
      "Enter the side length of Square10\n",
      "100\n",
      "40\n"
     ]
    }
   ],
   "source": [
    "#Program to find the perimeter of square and calculate area also (user)\n",
    "side = int(input(\"Enter the side length of Square\"))\n",
    "area = eval('side*side')\n",
    "perimeter = 4*side\n",
    "print(area)\n",
    "print(perimeter)"
   ]
  },
  {
   "cell_type": "code",
   "execution_count": 48,
   "id": "2dd5e509",
   "metadata": {},
   "outputs": [
    {
     "name": "stdout",
     "output_type": "stream",
     "text": [
      "Enter the height of cylinder10\n",
      "Enter the radius of the cylinder12\n",
      "4521.6 cm^3\n",
      "1657.92 m\n"
     ]
    }
   ],
   "source": [
    "#program to find the Surface volume and area of Cylinder\n",
    "PI = 3.14\n",
    "\n",
    "h= float(input(\"Enter the height of cylinder\"))\n",
    "r = float(input(\"Enter the radius of the cylinder\"))\n",
    "\n",
    "volume = PI*r**2*h\n",
    "Surface_Area = ((2*PI*r)*h)+((PI*r**2)*2)\n",
    "\n",
    "print(volume)\n",
    "print(Surface_Area)"
   ]
  },
  {
   "cell_type": "code",
   "execution_count": 56,
   "id": "d335fabc",
   "metadata": {},
   "outputs": [
    {
     "name": "stdout",
     "output_type": "stream",
     "text": [
      "x= 100\n",
      "y= 10\n"
     ]
    }
   ],
   "source": [
    "#Program to Swap the value of two Variables without temporary \n",
    "\n",
    "x = 10\n",
    "y = 100\n",
    "x, y = y , x\n",
    "print(\"x=\" ,x)\n",
    "print(\"y=\" , y)\n",
    "\n",
    "\n",
    "\n"
   ]
  },
  {
   "cell_type": "code",
   "execution_count": 52,
   "id": "536c033e",
   "metadata": {},
   "outputs": [
    {
     "name": "stdout",
     "output_type": "stream",
     "text": [
      "Enter fisrt value12\n",
      "Enter second value21\n",
      "Numbers before swapping:\n",
      "num1 =  12\n",
      "num2 =  21\n",
      "Numbers after Swapping:\n",
      "num1 =  21\n",
      "num2 =  12\n"
     ]
    }
   ],
   "source": [
    "#Program to Swap the value of two Variables taking input from the user using temporary variable\n",
    "\n",
    "\n",
    "num1 = int(input(\"Enter fisrt value\"))\n",
    "num2 = int(input(\"Enter second value\"))\n",
    "\n",
    "print(\"Numbers before swapping:\")\n",
    "print(\"num1 = \" , num1)\n",
    "print(\"num2 = \" , num2)\n",
    "\n",
    "temp = num1\n",
    "num1 = num2\n",
    "num2 = temp\n",
    "\n",
    "print(\"Numbers after Swapping:\")\n",
    "print(\"num1 = \" , num1)\n",
    "print(\"num2 = \" , num2)\n",
    "\n",
    "\n",
    "\n",
    " \n"
   ]
  },
  {
   "cell_type": "code",
   "execution_count": null,
   "id": "013ff79b",
   "metadata": {},
   "outputs": [],
   "source": []
  }
 ],
 "metadata": {
  "kernelspec": {
   "display_name": "Python 3 (ipykernel)",
   "language": "python",
   "name": "python3"
  },
  "language_info": {
   "codemirror_mode": {
    "name": "ipython",
    "version": 3
   },
   "file_extension": ".py",
   "mimetype": "text/x-python",
   "name": "python",
   "nbconvert_exporter": "python",
   "pygments_lexer": "ipython3",
   "version": "3.9.7"
  }
 },
 "nbformat": 4,
 "nbformat_minor": 5
}
