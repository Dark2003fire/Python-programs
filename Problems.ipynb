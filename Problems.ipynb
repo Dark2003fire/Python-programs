{
 "cells": [
  {
   "cell_type": "code",
   "execution_count": 1,
   "id": "22622869",
   "metadata": {},
   "outputs": [
    {
     "name": "stdout",
     "output_type": "stream",
     "text": [
      "Enter a number:5\n",
      "The factorial of a  5 is  120\n"
     ]
    }
   ],
   "source": [
    "#1)program to find the factorial of a number:-\n",
    "\n",
    "\"\"\"\n",
    "1! => 1\n",
    "2! => 2*1 = 2\n",
    "3! => 3*2*1 = 6\n",
    "4! => 4*3*2*1 = 24\n",
    "5! => 5*4*3*2*1 = 120\n",
    "\n",
    "\"\"\"\n",
    "num = int(input(\"Enter a number:\"))\n",
    "fact = 1\n",
    "if num<=0:\n",
    "    print(\"Sorry  ,factorial does not exists for negative numbers\")\n",
    "elif num == 0:\n",
    "    print(\"the Factorial of 0 is 1\")\n",
    "else:\n",
    "    for i in range(1 , num+1):\n",
    "        fact= fact*i;\n",
    "print(\"The factorial of a \" , num , \"is \" , fact)\n",
    "\n",
    "\n"
   ]
  },
  {
   "cell_type": "code",
   "execution_count": 3,
   "id": "044bd50f",
   "metadata": {},
   "outputs": [
    {
     "name": "stdout",
     "output_type": "stream",
     "text": [
      "Enter a number:3\n",
      "3 * 1 = 3\n",
      "3 * 2 = 6\n",
      "3 * 3 = 9\n",
      "3 * 4 = 12\n",
      "3 * 5 = 15\n",
      "3 * 6 = 18\n",
      "3 * 7 = 21\n",
      "3 * 8 = 24\n",
      "3 * 9 = 27\n",
      "3 * 10 = 30\n"
     ]
    }
   ],
   "source": [
    "#2) Program of print the multiplication of a given number:-\n",
    "n = int(input(\"Enter a number:\"))\n",
    "\n",
    "for i in range(1 , 11):\n",
    "    print(n  , '*' ,i  , '=' , n*i)\n",
    "    \n",
    "    "
   ]
  },
  {
   "cell_type": "code",
   "execution_count": 9,
   "id": "f7ce4bbf",
   "metadata": {},
   "outputs": [
    {
     "name": "stdout",
     "output_type": "stream",
     "text": [
      "Enter a number:36\n",
      "36 is not perfect number:\n"
     ]
    }
   ],
   "source": [
    "#3) Program to find out whether the input number is perfect or not\n",
    "\n",
    "\"\"\"\n",
    "6 = 1 , 2 ,3 \n",
    "1+2+3 = 6\n",
    "\n",
    "28 = 1,2,4,7,14\n",
    "1+2+4+7+14 = 28\n",
    "\n",
    "\n",
    "28 , 496 ,8128\n",
    "\"\"\"\n",
    "n = int(input(\"Enter a number:\"))\n",
    "\n",
    "sum = 0\n",
    "for i  in range(1 ,n):\n",
    "    if n%i==0:\n",
    "        sum= sum+i\n",
    "if sum==n:\n",
    "    print(n , \"is a perfect number:\")\n",
    "else :\n",
    "    print(n , \"is not perfect number:\")\n",
    "    \n",
    "    \n",
    "\n",
    "\n"
   ]
  },
  {
   "cell_type": "code",
   "execution_count": 3,
   "id": "653fbd46",
   "metadata": {},
   "outputs": [
    {
     "name": "stdout",
     "output_type": "stream",
     "text": [
      "Enter marks of Maths:12\n",
      "Enter marks of Science:32\n",
      "Enter marks of History:20\n",
      "Total Marks: 64\n",
      "Percentage: 21.333333333333332\n",
      "Fail\n"
     ]
    }
   ],
   "source": [
    "#4) Program to generate the student's result . Accept the marks of five subject and dipplay result according to following conditions\n",
    "\n",
    "\"\"\"\n",
    "Percentage                        Ranking\n",
    "\n",
    ">= 75                            First Class with Distinction\n",
    "\n",
    ">=60 and <75                     First Class\n",
    "\n",
    ">=40 and <60                    Second class\n",
    "\n",
    ">= 40 and <45                    Pass\n",
    "\n",
    "<40                             Fail\n",
    "\n",
    "\n",
    "\n",
    "\"\"\"\n",
    "\n",
    "\n",
    "m1 = int(input(\"Enter marks of Maths:\"))\n",
    "m2 = int(input(\"Enter marks of Science:\"))\n",
    "m3 = int(input(\"Enter marks of History:\"))\n",
    "\n",
    "\n",
    "\n",
    "total = m1+m2+m3\n",
    "per = total/3\n",
    "\n",
    "print(\"Total Marks:\" , total)\n",
    "print(\"Percentage:\"  , per)\n",
    "\n",
    "\n",
    "if per>=75:\n",
    "    print(\"Distinction\")\n",
    "elif per>=60 and per<=75:\n",
    "    print(\"First Class\")\n",
    "elif per>=40 and per<=60:\n",
    "    print(\"Second class\")\n",
    "elif per>=40 and per<=45:\n",
    "    print(\"Pass\")\n",
    "\n",
    "else:\n",
    "    print(\"Fail\")\n",
    "    \n",
    "    \n",
    "    \n",
    "\n",
    "\n",
    "\n",
    "\n",
    "\n",
    "\n",
    "\n",
    "\n"
   ]
  },
  {
   "cell_type": "code",
   "execution_count": 9,
   "id": "859da698",
   "metadata": {},
   "outputs": [
    {
     "name": "stdout",
     "output_type": "stream",
     "text": [
      "Enter a first number:54\n",
      "Enter a Second number:62\n",
      "Enter which operation would you like to perform:\n",
      "Enter which of the opeation you want to specifically perform + ,- ,* , / :-\n",
      "54 - 62 : -8\n"
     ]
    }
   ],
   "source": [
    "#5 Program to perform the addition  , subtraction , Multiplication and Division\n",
    "num1 = int(input(\"Enter a first number:\"))\n",
    "num2 = int(input(\"Enter a Second number:\"))\n",
    "\n",
    "print(\"Enter which operation would you like to perform:\")\n",
    "\n",
    "ch = input(\"Enter which of the opeation you want to specifically perform + ,- ,* , / :\")\n",
    "\n",
    "\n",
    "res = 0\n",
    "\n",
    "if ch == '+':\n",
    "    res = num1+num2\n",
    "elif ch == '-':\n",
    "    res = num1-num2\n",
    "elif ch == '*':\n",
    "    res = num1*num2\n",
    "elif ch == '/':\n",
    "    res = num1/num2\n",
    "    \n",
    "else:\n",
    "    print(\"Input operation is not recognized\")\n",
    "    \n",
    "print(num1 , ch , num2  , \":\" , res)\n",
    "\n",
    "\n",
    "    \n",
    "    \n"
   ]
  },
  {
   "cell_type": "code",
   "execution_count": 14,
   "id": "c16b67a9",
   "metadata": {},
   "outputs": [
    {
     "name": "stdout",
     "output_type": "stream",
     "text": [
      "Enter the string:hitesh\n",
      "The string is not palindrome\n"
     ]
    }
   ],
   "source": [
    "#6) Prrogram to check the whether string is Palindrome or not:\n",
    "\"\"\"\n",
    "\n",
    "madam = madam\n",
    "Nitin = nitin\n",
    "\n",
    "\n",
    "\n",
    "\n",
    "\"\"\"\n",
    "string =  input(\"Enter the string:\")\n",
    "\n",
    "if(string==string[::-1]):\n",
    "    print(\"The string is Palindrome\")\n",
    "    \n",
    "else:\n",
    "    print(\"The string is not palindrome\")\n",
    "    \n",
    "    \n",
    "\n",
    "\n"
   ]
  },
  {
   "cell_type": "code",
   "execution_count": null,
   "id": "1c38a9b0",
   "metadata": {},
   "outputs": [],
   "source": []
  }
 ],
 "metadata": {
  "kernelspec": {
   "display_name": "Python 3 (ipykernel)",
   "language": "python",
   "name": "python3"
  },
  "language_info": {
   "codemirror_mode": {
    "name": "ipython",
    "version": 3
   },
   "file_extension": ".py",
   "mimetype": "text/x-python",
   "name": "python",
   "nbconvert_exporter": "python",
   "pygments_lexer": "ipython3",
   "version": "3.9.7"
  }
 },
 "nbformat": 4,
 "nbformat_minor": 5
}
