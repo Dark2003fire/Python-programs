{
 "cells": [
  {
   "cell_type": "code",
   "execution_count": 1,
   "id": "afca5555",
   "metadata": {},
   "outputs": [
    {
     "name": "stdout",
     "output_type": "stream",
     "text": [
      "Values inside the function: [10, 20, 30, [1, 2, 3, 4]]\n",
      "Values ouside the function: [10, 20, 30, [1, 2, 3, 4]]\n"
     ]
    }
   ],
   "source": [
    "#Variables and Paramters :--\n",
    "\"\"\"\n",
    "There are two Paramter mechanism :-\n",
    "\n",
    "1) Pass by reference :-\n",
    "\n",
    "2) Pass by value:-\n",
    "\n",
    "\n",
    "\n",
    "\"\"\"\n",
    "#Pass by Reference :--\n",
    "\n",
    "def food(lst):\n",
    "    lst.append([1,2,3,4])\n",
    "    print(\"Values inside the function:\" , lst)\n",
    "    return \n",
    "\n",
    "lst = [10,20,30]\n",
    "food(lst)\n",
    "print(\"Values ouside the function:\" , lst)\n",
    "\n",
    "\n",
    "\n",
    "\n"
   ]
  },
  {
   "cell_type": "code",
   "execution_count": 3,
   "id": "77d51f05",
   "metadata": {},
   "outputs": [
    {
     "name": "stdout",
     "output_type": "stream",
     "text": [
      "Values inside the function: [1, 2, 3, 4]\n",
      "Values outside the function: [10, 20, 30]\n"
     ]
    }
   ],
   "source": [
    "def food(lst):\n",
    "    lst = [1,2,3,4]\n",
    "    print(\"Values inside the function:\" , lst)\n",
    "    return\n",
    "\n",
    "lst = [10,20,30]\n",
    "food(lst)\n",
    "print(\"Values outside the function:\" , lst)\n",
    "\n"
   ]
  },
  {
   "cell_type": "code",
   "execution_count": 4,
   "id": "2c47f4ae",
   "metadata": {},
   "outputs": [
    {
     "name": "stdout",
     "output_type": "stream",
     "text": [
      "Before the function call: 100\n",
      "Inside function call: 200\n",
      "After the function call: 100\n"
     ]
    }
   ],
   "source": [
    "def function(int):\n",
    "    int+=100\n",
    "    print(\"Inside function call:\" , int)\n",
    "    \n",
    "int = 100\n",
    "print(\"Before the function call:\" , int)\n",
    "function(int)\n",
    "print(\"After the function call:\" , int)\n",
    "\n"
   ]
  },
  {
   "cell_type": "code",
   "execution_count": 7,
   "id": "e52f36f3",
   "metadata": {},
   "outputs": [
    {
     "name": "stdout",
     "output_type": "stream",
     "text": [
      "local Variable: 20\n",
      "Global Variable: 10\n",
      "Global Variable: 10\n"
     ]
    },
    {
     "ename": "NameError",
     "evalue": "name 'b' is not defined",
     "output_type": "error",
     "traceback": [
      "\u001b[1;31m---------------------------------------------------------------------------\u001b[0m",
      "\u001b[1;31mNameError\u001b[0m                                 Traceback (most recent call last)",
      "Input \u001b[1;32mIn [7]\u001b[0m, in \u001b[0;36m<cell line: 29>\u001b[1;34m()\u001b[0m\n\u001b[0;32m     25\u001b[0m     \u001b[38;5;28;01mreturn\u001b[39;00m\n\u001b[0;32m     28\u001b[0m show()\n\u001b[1;32m---> 29\u001b[0m \u001b[43mshow2\u001b[49m\u001b[43m(\u001b[49m\u001b[43m)\u001b[49m\n",
      "Input \u001b[1;32mIn [7]\u001b[0m, in \u001b[0;36mshow2\u001b[1;34m()\u001b[0m\n\u001b[0;32m     22\u001b[0m \u001b[38;5;28;01mdef\u001b[39;00m \u001b[38;5;21mshow2\u001b[39m():\n\u001b[0;32m     23\u001b[0m     \u001b[38;5;28mprint\u001b[39m(\u001b[38;5;124m\"\u001b[39m\u001b[38;5;124mGlobal Variable:\u001b[39m\u001b[38;5;124m\"\u001b[39m , a)\n\u001b[1;32m---> 24\u001b[0m     \u001b[38;5;28mprint\u001b[39m(\u001b[38;5;124m\"\u001b[39m\u001b[38;5;124mlocal Variable_2:\u001b[39m\u001b[38;5;124m\"\u001b[39m ,\u001b[43mb\u001b[49m)\n\u001b[0;32m     25\u001b[0m     \u001b[38;5;28;01mreturn\u001b[39;00m\n",
      "\u001b[1;31mNameError\u001b[0m: name 'b' is not defined"
     ]
    }
   ],
   "source": [
    "\"\"\"\n",
    "We have two types of Variables:-\n",
    "\n",
    "1) Local Varibale :-\n",
    "2) Global Varibale:-\n",
    "\n",
    "\n",
    "\n",
    "\n",
    "\n",
    "\"\"\"\n",
    "a = 10\n",
    "def show():\n",
    "    b = 20\n",
    "    \n",
    "    print(\"local Variable:\" ,b)\n",
    "    print(\"Global Variable:\" , a)\n",
    "    return\n",
    "\n",
    "\n",
    "\n",
    "def show2():\n",
    "    print(\"Global Variable:\" , a)#It's accessible\n",
    "    print(\"local Variable_2:\" ,b)  #Its is not Accessible\n",
    "    return\n",
    "\n",
    "\n",
    "show()\n",
    "show2()\n",
    "\n",
    "\n"
   ]
  },
  {
   "cell_type": "code",
   "execution_count": 9,
   "id": "119bceba",
   "metadata": {},
   "outputs": [
    {
     "name": "stdout",
     "output_type": "stream",
     "text": [
      "inner: nonlocal\n",
      "Outer: nonlocal\n"
     ]
    }
   ],
   "source": [
    "#Nonlocal Variable :--\n",
    "\n",
    "def Outer():\n",
    "    x = \"local\"\n",
    "    def inner():\n",
    "        nonlocal x\n",
    "        x = \"nonlocal\"\n",
    "        print(\"inner:\" , x)\n",
    "    inner()\n",
    "    \n",
    "    print(\"Outer:\" ,x)\n",
    "Outer()\n",
    "\n"
   ]
  },
  {
   "cell_type": "code",
   "execution_count": 13,
   "id": "a93657ac",
   "metadata": {},
   "outputs": [
    {
     "name": "stdout",
     "output_type": "stream",
     "text": [
      "Sum: 65\n"
     ]
    },
    {
     "data": {
      "text/plain": [
       "65"
      ]
     },
     "execution_count": 13,
     "metadata": {},
     "output_type": "execute_result"
    }
   ],
   "source": [
    "def sum(arg1 ,arg2):\n",
    "    total= arg1+arg2\n",
    "    print(\"Sum:\" , total)\n",
    "    return total\n",
    "\n",
    "sum(30 , 35)\n",
    "\n",
    "\n",
    "\n"
   ]
  },
  {
   "cell_type": "code",
   "execution_count": 14,
   "id": "84342239",
   "metadata": {},
   "outputs": [
    {
     "name": "stdout",
     "output_type": "stream",
     "text": [
      "1\n",
      "24\n",
      "720\n"
     ]
    }
   ],
   "source": [
    "#Recursion:- The function calling itself\n",
    "\n",
    "\n",
    "def fact(n):\n",
    "    if n ==0:\n",
    "        return 1\n",
    "    else:\n",
    "        return n * fact(n-1)\n",
    "print(fact(0))\n",
    "print(fact(4))\n",
    "print(fact(6))\n",
    "\n",
    "\n"
   ]
  },
  {
   "cell_type": "code",
   "execution_count": 21,
   "id": "ff53aca2",
   "metadata": {},
   "outputs": [
    {
     "name": "stdout",
     "output_type": "stream",
     "text": [
      "1: Dollar to Rupees:\n",
      "2: Euro to Rupees:\n",
      "3: Exit\n",
      "Enter your Choice1\n",
      "Please Enter in dollars456\n",
      "Dollars: 456.0\n",
      "Rupees: 37665.6\n"
     ]
    }
   ],
   "source": [
    "#Program to convert US dollar and Euro into India Rupees:--\n",
    "\n",
    "def dol_rup():\n",
    "    dollars = float(input(\"Please Enter in dollars\"))\n",
    "    rupees = dollars*82.60\n",
    "    print(\"Dollars:\" , dollars)\n",
    "    print(\"Rupees:\" ,rupees)\n",
    "    \n",
    "def euro_rup():\n",
    "    euro = float(input(\"Please Enter in Euros\"))\n",
    "    rupees = euro*88.50\n",
    "    print(\"Euro:\" , euro)\n",
    "    print(\"Rupees:\", rupees)\n",
    "    \n",
    "def menu():\n",
    "    while True:\n",
    "        print(\"1: Dollar to Rupees:\")\n",
    "        print(\"2: Euro to Rupees:\")\n",
    "        print(\"3: Exit\")\n",
    "    \n",
    "        choice =  float(input(\"Enter your Choice\"))\n",
    "    \n",
    "        if choice ==1 :\n",
    "            dol_rup()\n",
    "        if choice ==2:\n",
    "            euro_rup()\n",
    "        if choice ==3:\n",
    "            print(\"Good Bbye!!!\")\n",
    "            break\n",
    "            \n",
    "        return\n",
    "\n",
    "        \n",
    "menu()\n",
    "\n",
    "\n"
   ]
  },
  {
   "cell_type": "code",
   "execution_count": null,
   "id": "04811056",
   "metadata": {},
   "outputs": [],
   "source": []
  }
 ],
 "metadata": {
  "kernelspec": {
   "display_name": "Python 3 (ipykernel)",
   "language": "python",
   "name": "python3"
  },
  "language_info": {
   "codemirror_mode": {
    "name": "ipython",
    "version": 3
   },
   "file_extension": ".py",
   "mimetype": "text/x-python",
   "name": "python",
   "nbconvert_exporter": "python",
   "pygments_lexer": "ipython3",
   "version": "3.9.7"
  }
 },
 "nbformat": 4,
 "nbformat_minor": 5
}
