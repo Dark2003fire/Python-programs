{
 "cells": [
  {
   "cell_type": "code",
   "execution_count": 1,
   "id": "30aafa48",
   "metadata": {},
   "outputs": [],
   "source": [
    "import cv2"
   ]
  },
  {
   "cell_type": "code",
   "execution_count": 2,
   "id": "886eea74",
   "metadata": {},
   "outputs": [],
   "source": [
    "import numpy as np\n"
   ]
  },
  {
   "cell_type": "code",
   "execution_count": 8,
   "id": "2f469e73",
   "metadata": {},
   "outputs": [
    {
     "name": "stdout",
     "output_type": "stream",
     "text": [
      "[[[ 0  0  0]\n",
      "  [ 0  0  0]\n",
      "  [ 0  0  0]\n",
      "  ...\n",
      "  [ 0  0  0]\n",
      "  [ 0  0  0]\n",
      "  [ 0  0  0]]\n",
      "\n",
      " [[ 0  0  0]\n",
      "  [ 0  0  0]\n",
      "  [ 0  0  0]\n",
      "  ...\n",
      "  [ 0  0  0]\n",
      "  [ 0  0  0]\n",
      "  [ 0  0  0]]\n",
      "\n",
      " [[ 0  0  0]\n",
      "  [ 0  0  0]\n",
      "  [ 0  0  0]\n",
      "  ...\n",
      "  [ 0  0  0]\n",
      "  [ 0  0  0]\n",
      "  [ 0  0  0]]\n",
      "\n",
      " ...\n",
      "\n",
      " [[28  6 24]\n",
      "  [27  6 21]\n",
      "  [24  5 20]\n",
      "  ...\n",
      "  [37  9 22]\n",
      "  [39 11 24]\n",
      "  [35  7 20]]\n",
      "\n",
      " [[27  5 23]\n",
      "  [26  5 20]\n",
      "  [25  6 21]\n",
      "  ...\n",
      "  [36 10 23]\n",
      "  [35  9 22]\n",
      "  [30  4 17]]\n",
      "\n",
      " [[29  8 23]\n",
      "  [26  7 22]\n",
      "  [24  7 20]\n",
      "  ...\n",
      "  [33  9 21]\n",
      "  [35 11 23]\n",
      "  [32  8 20]]]\n"
     ]
    }
   ],
   "source": [
    "img = cv2.imread(\"my.jpg\")\n",
    "print(img)\n",
    "gray = cv2.cvtColor(img  , cv2.COLOR_BGR2GRAY)\n",
    "gray = cv2.medianBlur(gray, 5)\n",
    "edges = cv2.adaptiveThreshold(gray , 255 , cv2.ADAPTIVE_THRESH_MEAN_C , cv2.THRESH_BINARY , 9 ,9)\n",
    "\n",
    "color = cv2.bilateralFilter(img , 9 , 250 , 250)\n",
    "cartoon = cv2.bitwise_and(color , color , mask = edges)\n",
    "\n",
    "cv2.imshow(\"Image\" , img)\n",
    "cv2.imshow(\"edges\" , edges)\n",
    "cv2.imshow(\"Cartoon\" , cartoon)\n",
    "#cv2.waitkey(0)\n",
    "cv2.destroyAllWindows()\n",
    "\n",
    "\n"
   ]
  },
  {
   "cell_type": "code",
   "execution_count": null,
   "id": "3078ce51",
   "metadata": {},
   "outputs": [],
   "source": []
  },
  {
   "cell_type": "code",
   "execution_count": null,
   "id": "0d1d2d15",
   "metadata": {},
   "outputs": [],
   "source": []
  }
 ],
 "metadata": {
  "kernelspec": {
   "display_name": "Python 3 (ipykernel)",
   "language": "python",
   "name": "python3"
  },
  "language_info": {
   "codemirror_mode": {
    "name": "ipython",
    "version": 3
   },
   "file_extension": ".py",
   "mimetype": "text/x-python",
   "name": "python",
   "nbconvert_exporter": "python",
   "pygments_lexer": "ipython3",
   "version": "3.9.7"
  }
 },
 "nbformat": 4,
 "nbformat_minor": 5
}
