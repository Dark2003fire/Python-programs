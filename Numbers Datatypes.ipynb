{
 "cells": [
  {
   "cell_type": "code",
   "execution_count": 8,
   "id": "e7c960ea",
   "metadata": {},
   "outputs": [
    {
     "name": "stdout",
     "output_type": "stream",
     "text": [
      "10\n",
      "10 20 30 40\n"
     ]
    }
   ],
   "source": [
    "#Numbers Datatypes\n",
    "a = 10\n",
    "print(a) # it displays the output\n",
    "\n",
    "\n",
    "b = 20\n",
    "\n",
    "c = 30\n",
    "\n",
    "d = 40\n",
    "\n",
    "print(a , b , c , d)\n",
    "\n",
    "\n"
   ]
  },
  {
   "cell_type": "code",
   "execution_count": 9,
   "id": "e2ed22c8",
   "metadata": {},
   "outputs": [
    {
     "name": "stdout",
     "output_type": "stream",
     "text": [
      "1.2 6.5 7.6 5.653\n",
      "1.2\n",
      "6.5\n",
      "7.6\n",
      "5.653\n"
     ]
    }
   ],
   "source": [
    "\n",
    "#Floating datatype\n",
    "\n",
    "a = 1.2\n",
    "b = 6.5\n",
    "c = 7.6\n",
    "d = 5.653\n",
    "\n",
    "print(a ,b , c , d)\n",
    "\n",
    "print(a)\n",
    "print(b)\n",
    "print(c)\n",
    "print(d)"
   ]
  },
  {
   "cell_type": "code",
   "execution_count": 14,
   "id": "dfbaff18",
   "metadata": {},
   "outputs": [
    {
     "name": "stdout",
     "output_type": "stream",
     "text": [
      "(3+4j)\n",
      "3.0\n",
      "4.0\n",
      "The real nos is =  3.0\n",
      "The imaginary nos is =  4.0\n"
     ]
    }
   ],
   "source": [
    "#Complex Numbers :--\n",
    "\n",
    "cm = 3+4j\n",
    "print(cm)\n",
    "\n",
    "\n",
    "print(cm.real)\n",
    "print(cm.imag)\n",
    "\n",
    "\n",
    "print(\"The real nos is = \" , cm.real)\n",
    "print(\"The imaginary nos is = \" , cm.imag)\n",
    "\n",
    "\n",
    "\n",
    "\n",
    "cm1 = -6+5j\n",
    "\n",
    "\n",
    "\n",
    "\n",
    "\n",
    "\n",
    "\n"
   ]
  },
  {
   "cell_type": "code",
   "execution_count": 22,
   "id": "cde3bc50",
   "metadata": {},
   "outputs": [
    {
     "name": "stdout",
     "output_type": "stream",
     "text": [
      "Guru Bala\n",
      "Coachx Students are All my dear students\n",
      "Hitesh\n",
      "Prasanjeet\n",
      "$\n"
     ]
    }
   ],
   "source": [
    "#String :-\n",
    "#Double Quoted String\n",
    "S1 = \"Hitesh\"\n",
    "S2 = \"Prasanjeet\"\n",
    "S3= \"Guru Bala\"\n",
    "S4 = \"All my dear students\"\n",
    "\n",
    "\n",
    "print(S3)\n",
    "print(\"Coachx Students are\" , S4)\n",
    "\n",
    "#Single Quoted String :-\n",
    "S1 = 'Hitesh'\n",
    "S2 = 'Prasanjeet'\n",
    "S3= 'Guru Bala'\n",
    "S4 = 'All my dear students'\n",
    "\n",
    "\n",
    "\n",
    "print(S1)\n",
    "print(S2)\n",
    "\n",
    "\n",
    "\n",
    "S1 = \"$\"\n",
    "print(S1)\n"
   ]
  },
  {
   "cell_type": "code",
   "execution_count": 26,
   "id": "4c4d8964",
   "metadata": {},
   "outputs": [
    {
     "name": "stdout",
     "output_type": "stream",
     "text": [
      "[10, 20, 30, 40, 50, 60, 70, 80, 90, 100]\n",
      "['Hitesh', 'Simona', 'Ahana', 'Guru Bala', 'Aishwarya']\n",
      "[1.2, 3.2, 4.6, 2.3]\n",
      "[1, 2.3, 4.6, 'Hitesh', 'Guru Bala', 'Jakir', 3.6, 5369]\n"
     ]
    }
   ],
   "source": [
    "#List:-\n",
    "\n",
    "first = [10,20,30,40,50,60,70,80,90,100]\n",
    "\n",
    "print(first)\n",
    "\n",
    "\n",
    "names = [\"Hitesh\" ,\"Simona\" , \"Ahana\" ,\"Guru Bala\" , \"Aishwarya\"]\n",
    "print(names)\n",
    "\n",
    "\n",
    "floats = [1.2,3.2,4.6,2.3]\n",
    "print(floats)\n",
    "\n",
    "mix_type = [1,2.3,4.6,\"Hitesh\" ,'Guru Bala' ,'Jakir' , 3.6,5369]\n",
    "print(mix_type)\n",
    "\n",
    "\n"
   ]
  },
  {
   "cell_type": "code",
   "execution_count": 28,
   "id": "601118a5",
   "metadata": {},
   "outputs": [
    {
     "name": "stdout",
     "output_type": "stream",
     "text": [
      "('Students', 'Cars', 'Luxury', 'life')\n",
      "(1, 2, 3.6, 5.69, 'Hitesh', 'Guru Bala', 'Ahana')\n"
     ]
    }
   ],
   "source": [
    "# tuples :-\n",
    "t1 = (\"Students\" , \"Cars\" , \"Luxury\" , \"life\")\n",
    "print(t1)\n",
    "\n",
    "\n",
    "t2 = (1,2,3.6,5.69,'Hitesh' ,'Guru Bala' , \"Ahana\")\n",
    "print(t2)"
   ]
  },
  {
   "cell_type": "code",
   "execution_count": 37,
   "id": "e74885da",
   "metadata": {},
   "outputs": [
    {
     "name": "stdout",
     "output_type": "stream",
     "text": [
      "{'First': 1}\n",
      "{'Students': 'Coachx'}\n",
      "{1: 'First', '2': 'seconds', 3: 'third'}\n",
      "{12.3: 25}\n",
      "dict_keys(['First'])\n",
      "dict_values([1])\n",
      "dict_keys(['Students'])\n",
      "dict_values(['Coachx'])\n",
      "dict_keys([1, '2', 3])\n",
      "dict_values(['First', 'seconds', 'third'])\n"
     ]
    }
   ],
   "source": [
    "#Dictionary :-\n",
    "dictionary = {\"First\":1}\n",
    "print(dictionary)\n",
    "\n",
    "\n",
    "\n",
    "dict2 = {\"Students\":\"Coachx\"}\n",
    "print(dict2)\n",
    "\n",
    "\n",
    "diction  = {1:\"First\" , \"2\" : \"seconds\" , 3 : 'third'}\n",
    "print(diction)\n",
    "\n",
    "\n",
    "dict3 = {12.3 :25}\n",
    "print(dict3)\n",
    "\n",
    "\n",
    "print(dictionary.keys())\n",
    "print(dictionary.values())\n",
    "\n",
    "print(dict2.keys())\n",
    "print(dict2.values())\n",
    "\n",
    "print(diction.keys())\n",
    "print(diction.values())\n"
   ]
  },
  {
   "cell_type": "code",
   "execution_count": 46,
   "id": "5535a415",
   "metadata": {},
   "outputs": [
    {
     "name": "stdout",
     "output_type": "stream",
     "text": [
      "{'Mango', 'Apple ', 'Oranges'}\n",
      "{'c', 'd', 'a', 'b'}\n"
     ]
    }
   ],
   "source": [
    "#Set :-\n",
    "\n",
    "my_set = {\"Apple \" , \"Mango\" , \"Oranges\"}\n",
    "print(my_set)\n",
    "\n",
    "my_set2 = {'a' ,'b' , 'c' ,'d'}\n",
    "\n",
    "print(my_set2)\n",
    "\n",
    "\n"
   ]
  },
  {
   "cell_type": "code",
   "execution_count": 43,
   "id": "2588d78d",
   "metadata": {},
   "outputs": [
    {
     "name": "stdout",
     "output_type": "stream",
     "text": [
      "False\n",
      "False\n",
      "False\n",
      "True\n"
     ]
    }
   ],
   "source": [
    "#Boolean :--\n",
    "\n",
    "\n",
    "a = 10\n",
    "print(a<0)\n",
    "\n",
    "b = 20\n",
    "print(a==b)\n",
    "\n",
    "\n",
    "\n",
    "\n",
    "\n",
    "c = 30\n",
    "print(a==c)\n",
    "\n",
    "\n",
    "d = 30\n",
    "print(c ==d)"
   ]
  },
  {
   "cell_type": "code",
   "execution_count": null,
   "id": "10dac4cb",
   "metadata": {},
   "outputs": [],
   "source": []
  }
 ],
 "metadata": {
  "kernelspec": {
   "display_name": "Python 3 (ipykernel)",
   "language": "python",
   "name": "python3"
  },
  "language_info": {
   "codemirror_mode": {
    "name": "ipython",
    "version": 3
   },
   "file_extension": ".py",
   "mimetype": "text/x-python",
   "name": "python",
   "nbconvert_exporter": "python",
   "pygments_lexer": "ipython3",
   "version": "3.9.7"
  }
 },
 "nbformat": 4,
 "nbformat_minor": 5
}
