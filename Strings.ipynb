{
 "cells": [
  {
   "cell_type": "code",
   "execution_count": 7,
   "id": "7549e8ef",
   "metadata": {},
   "outputs": [
    {
     "name": "stdout",
     "output_type": "stream",
     "text": [
      "Hello\n",
      "Hitesh\n",
      "World\n",
      "  Hello this is \n",
      "\n",
      "                     my python programming tutorial\n"
     ]
    }
   ],
   "source": [
    "\"\"\"\n",
    "STRINGS :--\n",
    "    A strings  is a combination of characters( '1', '!' ,'a' , '@')\n",
    "characters = 'h' , 'i' , 't' , 'e', 's' ,'h'\n",
    "\n",
    "Strings = 'hitesh'\n",
    "\n",
    "python strings are immutable (they cannot change)\n",
    "UTF-8\n",
    "\n",
    "\"\"\"\n",
    "\n",
    "\n",
    "\n",
    "my_string = 'Hello'\n",
    "print(my_string)\n",
    "\n",
    "strings = \"Hitesh\"\n",
    "print(strings)\n",
    "\n",
    "\n",
    "strings1 = '''World'''\n",
    "print(strings1)\n",
    "\n",
    "\n",
    "\n",
    "double_line_strings = \"\"\"  Hello this is \n",
    "\n",
    "                     my python programming tutorial\"\"\"\n",
    "\n",
    "\n",
    "print(double_line_strings)\n",
    "\n"
   ]
  },
  {
   "cell_type": "code",
   "execution_count": 9,
   "id": "f4501742",
   "metadata": {},
   "outputs": [
    {
     "name": "stdout",
     "output_type": "stream",
     "text": [
      "S =\t n\n",
      "u =\t a\n",
      "m =\t m\n",
      "a =\t u\n",
      "n =\t S\n"
     ]
    }
   ],
   "source": [
    "#String Representation:--\n",
    "\n",
    "# Python indexing is start from zero\n",
    "\"\"\"\n",
    "Forward indexing always start from : 0 , 1 , 2 , 3 ,4 , 5....\n",
    "Backward indexing starts from : -1,-2,-3,-4,.....\n",
    "\n",
    "\n",
    "\n",
    "\"\"\"\n",
    "\n",
    "\"\"\"\n",
    "s = n\n",
    "u = a\n",
    "m = m\n",
    "a = u\n",
    "n = s\n",
    "\n",
    "\"\"\"\n",
    "\n",
    "\n",
    "name = \"Suman\"\n",
    "length = len(name)\n",
    "i = 0\n",
    "for n in range(-1 , (-length-1) , -1):\n",
    "    print(name[i] ,\"=\\t\" , name[n])\n",
    "    i+=1"
   ]
  },
  {
   "cell_type": "code",
   "execution_count": 23,
   "id": "bea0d426",
   "metadata": {},
   "outputs": [
    {
     "name": "stdout",
     "output_type": "stream",
     "text": [
      "Hello Python\n",
      "H\n",
      "n\n",
      "n\n",
      "ell\n",
      " Python\n",
      "Hello\n",
      "el thn\n",
      "nohytP olleH\n"
     ]
    }
   ],
   "source": [
    "#Accesing the values in the string:--\n",
    "\n",
    "s = \"Hello Python\"\n",
    "print(s)\n",
    "\n",
    "\n",
    "# What will be the element at zero position\n",
    "\n",
    "print(s[0])\n",
    "\n",
    "#Give the element at last position\n",
    "print(s[-1]) # better choice\n",
    "print(s[11])\n",
    "\n",
    "#I want element fro index m to index n-1 print only ell\n",
    "print(s[1:4])\n",
    "\n",
    "#Get the element from index m to last index\n",
    "\n",
    "print(s[5:])\n",
    "\n",
    "##Get the element from index 0th to  n-1\n",
    "print(s[:5])\n",
    "\n",
    "\n",
    "s = \"Hello Ptyhon\"\n",
    "\n",
    "print(s[1:12:2])\n",
    "print(s[::-1])#to reverse the string"
   ]
  },
  {
   "cell_type": "code",
   "execution_count": 27,
   "id": "d59363ec",
   "metadata": {},
   "outputs": [
    {
     "name": "stdout",
     "output_type": "stream",
     "text": [
      "Hello World!\n",
      "updated string : Hello python\n",
      "Hello World!\n"
     ]
    }
   ],
   "source": [
    "#Updating and Manipulating\n",
    "\n",
    "\n",
    "\n",
    "string = \"Hello World!\"\n",
    "print(string)\n",
    "print(\"updated string :\" , string[:6]+'python')\n",
    "print(string)"
   ]
  },
  {
   "cell_type": "code",
   "execution_count": 31,
   "id": "9522a145",
   "metadata": {},
   "outputs": [
    {
     "name": "stdout",
     "output_type": "stream",
     "text": [
      "str1+str2 = HelloWorld\n",
      "HelloHelloHello\n",
      "['Hitesh', 'Amit', 'Durgesh', 'Suman', 'Simona', 'Neha', 'Coachx ']\n"
     ]
    }
   ],
   "source": [
    "str1 = \"Hello\"\n",
    "str2 = \"World\"\n",
    "\n",
    "print('str1+str2 =' , str1+str2) #concatenation \n",
    "print(str1*3)\n",
    "\n"
   ]
  },
  {
   "cell_type": "code",
   "execution_count": 40,
   "id": "4e8ea3c5",
   "metadata": {},
   "outputs": [
    {
     "name": "stdout",
     "output_type": "stream",
     "text": [
      "The name of Hitesh starts with letter-H\n",
      "C for - Cat\n",
      "Val1 is 25\n",
      "Val2 is 10\n"
     ]
    }
   ],
   "source": [
    "#String Formatter Operator (%) :--\n",
    "\"\"\"\n",
    "\n",
    "%c = character\n",
    "%s = String conversion\n",
    "%d = integer\n",
    "%X = hexadecimal\n",
    "%E = exponentiation\n",
    "%f = floating\n",
    "\n",
    "\n",
    "\n",
    "\n",
    "\"\"\"\n",
    "\n",
    "#Embedd the character in the  string using %c\n",
    "val = 'H'\n",
    "print(\"The name of Hitesh starts with letter-%c\"%val)\n",
    "\n",
    "\n",
    "#Embedding  string inside string\n",
    "val = 'Cat'\n",
    "print(\"C for - %s\"%val)\n",
    "\n",
    "\n",
    "#Embedding  decimal\n",
    "\n",
    "val1 = 25\n",
    "val2 = 10\n",
    "print(\"Val1 is %i\"%val1)\n",
    "print(\"Val2 is %d\"%val2)\n",
    "\n"
   ]
  },
  {
   "cell_type": "code",
   "execution_count": null,
   "id": "85834b56",
   "metadata": {},
   "outputs": [],
   "source": [
    "\"\"\"\n",
    "Q1) Program to perform all aritmetic Operation with Complex numbers\n",
    "\n",
    "Q2) Program to find the best of two test avearge marks out of the three  test's marks accepted fro the user\n",
    "\n",
    "\n",
    "Q3) print the pattern (*) using loop\n",
    "*\n",
    "* *\n",
    "* * *\n",
    "* * * * \n",
    "* * * * * \n",
    "\n",
    "\n",
    "1 2 3 4 5\n",
    "1 2 3 4\n",
    "1 2 3 \n",
    "1 2 \n",
    "1\n",
    "          *\n",
    "        *   *\n",
    "      *    *  *\n",
    "    *   *   *    *\n",
    "    \n",
    "    \n",
    "    \n",
    "Q4) Program  to ask the user for a range and display all the prime numbers within that range\n",
    "\n",
    "\n",
    "Q5) Program which accepts 5 integers values and prints \"DUPLICATES\" if any of the values enteredare duplicates\n",
    "otherwise it prints \"ALL VALUES\". Let's integers are (4,5,6,2,4) the output \"DUPLICATES \" to be printed\n",
    "\n",
    "\n",
    "4,5,6,2,4\n",
    "\n",
    "DUPLICATES : 4\n",
    "UNIQUE : 5\n",
    "UNIQUE : 6\n",
    "UNIQUE : 2\n",
    "\n",
    "\n",
    "\n",
    "\n",
    "\n",
    "               O/R\n",
    "               \n",
    "               \n",
    "Q5) Program which accepts an integer values as command line and Print \"OK\" if value is between 1 to 50 (both inclusive)\n",
    "otherwise it prints \"Out of range\"\n",
    "\n",
    "Rnage(1,51)\n",
    "50\n",
    "OK\n",
    "out of range\n",
    "\n",
    "\"\"\""
   ]
  }
 ],
 "metadata": {
  "kernelspec": {
   "display_name": "Python 3 (ipykernel)",
   "language": "python",
   "name": "python3"
  },
  "language_info": {
   "codemirror_mode": {
    "name": "ipython",
    "version": 3
   },
   "file_extension": ".py",
   "mimetype": "text/x-python",
   "name": "python",
   "nbconvert_exporter": "python",
   "pygments_lexer": "ipython3",
   "version": "3.9.7"
  }
 },
 "nbformat": 4,
 "nbformat_minor": 5
}
