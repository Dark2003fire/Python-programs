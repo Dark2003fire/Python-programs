{
 "cells": [
  {
   "cell_type": "code",
   "execution_count": 8,
   "id": "237059cd",
   "metadata": {},
   "outputs": [
    {
     "name": "stdout",
     "output_type": "stream",
     "text": [
      "13\n"
     ]
    }
   ],
   "source": [
    "#List:- is a collection of items or elements in which sequence of data is stored in linear order.\n",
    "\n",
    "list1 = []\n",
    "\n",
    "list2 = [1,2,3,4,5,6,7,8,9]\n",
    "\n",
    "list3 = [\"Hitesh\" , \"Amit\" , \"Simona\" , \"Neha\", \"Ahana\" , \"Harmindar\"]\n",
    "\n",
    "list4  = [2.3,54.00,36.23,12.36]\n",
    "\n",
    "#The elements in the list can be accessed by their positions i.e indices.\n",
    "#The index in the list always starts with 0 and ends with n-1 if my list contain n elements.\n",
    "\n",
    "\n",
    "\n",
    "13 == [10,20,30]\n",
    "\n",
    "print(13)\n"
   ]
  },
  {
   "cell_type": "code",
   "execution_count": 9,
   "id": "583888c0",
   "metadata": {},
   "outputs": [
    {
     "name": "stdout",
     "output_type": "stream",
     "text": [
      "[0, 1, 2, 3, 4]\n"
     ]
    }
   ],
   "source": [
    "#list with inbuilt range() functions:-\n",
    "\n",
    "nos = list(range(0,5))\n",
    "print(nos)"
   ]
  },
  {
   "cell_type": "code",
   "execution_count": 25,
   "id": "5cd28234",
   "metadata": {},
   "outputs": [
    {
     "name": "stdout",
     "output_type": "stream",
     "text": [
      "One\n",
      "Four\n",
      "22.77\n",
      "['Two', 'Three']\n",
      "['One', 'Two', 'Three', 'Four']\n",
      "['One', 'Two', 'Three', 'Four', 'Five', 8, 9, 3.14, 22.77, 'H']\n",
      "[-5, -4, -3, -2, -1, 0, 1, 2, 3, 4]\n"
     ]
    }
   ],
   "source": [
    "#Let's accesss the element in the list:-\n",
    "list1 = [\"One\" , \"Two\" , \"Three\" , \"Four\" , \"Five\" ,8 , 9 , 3.14 , 22.77 , 'H' ]\n",
    "print(list1[0])\n",
    "print(list1[3])\n",
    "print(list1[-2])\n",
    "print(list1[1:3])\n",
    "\n",
    "print(list1[:4])\n",
    "\n",
    "print(list1 [::])\n",
    "\n",
    "print(list(range(-5,5)))\n",
    "\n",
    "\n",
    "\n"
   ]
  },
  {
   "cell_type": "code",
   "execution_count": 35,
   "id": "1ed49b9f",
   "metadata": {},
   "outputs": [
    {
     "name": "stdout",
     "output_type": "stream",
     "text": [
      "[100, 20, 30, 40, 50, 60, 70]\n",
      "[100, 20, 30, 40, 50, 60, 110]\n",
      "[100, 20, 58, 65, 45, 30, 40, 50, 60, 110]\n"
     ]
    }
   ],
   "source": [
    "list1 = [10,20,30,40,50,60,70]\n",
    "\n",
    "list1[0] = 100\n",
    "\n",
    "print(list1)\n",
    "\n",
    "list1[-1] = 110\n",
    "\n",
    "print(list1)\n",
    "\n",
    "list1[2:2] = [58,65, 45]\n",
    "\n",
    "\n",
    "print(list1)\n",
    "\n"
   ]
  },
  {
   "cell_type": "code",
   "execution_count": 39,
   "id": "8e3f9a44",
   "metadata": {},
   "outputs": [
    {
     "name": "stdout",
     "output_type": "stream",
     "text": [
      "[10, 20, 30, 40, 50]\n",
      "None\n",
      "[10, 20, 30, 40, 50, 60]\n"
     ]
    }
   ],
   "source": [
    "#Lets see some built in methods \n",
    "\n",
    "list1 = [10,20,30,40,50]\n",
    "print(list1)\n",
    "list1.append(60)\n",
    "\n",
    "print(list1)\n"
   ]
  },
  {
   "cell_type": "code",
   "execution_count": 40,
   "id": "547c7b34",
   "metadata": {},
   "outputs": [
    {
     "name": "stdout",
     "output_type": "stream",
     "text": [
      "[10, 20, 30, 40, 50]\n",
      "[10, 20, 30, 40, 50, 60, 70, 80, 90, 100]\n"
     ]
    }
   ],
   "source": [
    "#extend()  method\n",
    "\n",
    "\n",
    "list12 = [10,20,30,40,50]\n",
    "\n",
    "print(list12)\n",
    "list12.extend([60,70,80,90,100])\n",
    "\n",
    "\n",
    "print(list12)"
   ]
  },
  {
   "cell_type": "code",
   "execution_count": 41,
   "id": "212700ee",
   "metadata": {},
   "outputs": [
    {
     "name": "stdout",
     "output_type": "stream",
     "text": [
      "[10, 20, 30]\n",
      "[10, 40, 20, 30]\n"
     ]
    }
   ],
   "source": [
    "#insert()  method:-\n",
    "\n",
    "list1 = [10,20,30]\n",
    "\n",
    "print(list1)\n",
    "list1.insert(1,40)\n",
    "\n",
    "print(list1)"
   ]
  },
  {
   "cell_type": "code",
   "execution_count": 44,
   "id": "9741f1cd",
   "metadata": {},
   "outputs": [
    {
     "name": "stdout",
     "output_type": "stream",
     "text": [
      "[10, 20, 30, 40]\n",
      "[10, 20, 30, 40, 50, 60, 70, 80]\n",
      "[10, 20, 30, 40, 50, 60, 70, 80, 'A', 'B', 'C']\n"
     ]
    }
   ],
   "source": [
    "#How to perform the operators in the list:-\n",
    "\n",
    "#1) + Operator:-\n",
    "\n",
    "list1 = [10,20,30,40]\n",
    "print(list1)\n",
    "\n",
    "list2 = list1 +[50,60,70,80]\n",
    "\n",
    "list3 = list2+[\"A\", \"B\",\"C\"]\n",
    "\n",
    "print(list2)\n",
    "print(list3)\n"
   ]
  },
  {
   "cell_type": "code",
   "execution_count": 53,
   "id": "14f099d7",
   "metadata": {},
   "outputs": [
    {
     "name": "stdout",
     "output_type": "stream",
     "text": [
      "['A', 'B']\n",
      "['A', 'B', 'A', 'B', 'A', 'B']\n",
      "['A', 'B', 'A', 'B', 'A', 'B', 10, 20, 30, 10, 20, 30, 10, 20, 30, 10, 20, 30]\n",
      "[2.3, 54.0, 36.23, 12.36]\n",
      "The Product of the 2 list is : [100, 400, 900]\n"
     ]
    }
   ],
   "source": [
    "#2) * operator :-\n",
    "    \n",
    "list2 = [\"A\" , \"B\"]\n",
    "print(list2)\n",
    "\n",
    "\n",
    "print(list2*3)\n",
    "\n",
    "list5 = [10,20,30]\n",
    "list1 = [10,20,30]\n",
    "list3 = list2*3+list1*4\n",
    "\n",
    "print(list3)\n",
    "print(list4)\n",
    "\n",
    "\n",
    "\n",
    "\n",
    "Result = []\n",
    "\n",
    "for i , j in zip(list1 , list5):\n",
    "    Result.append(i*j)\n",
    "    \n",
    "print(\"The Product of the 2 list is :\" ,Result)    "
   ]
  },
  {
   "cell_type": "code",
   "execution_count": 56,
   "id": "5598ec80",
   "metadata": {},
   "outputs": [
    {
     "name": "stdout",
     "output_type": "stream",
     "text": [
      "[4, 8, 9, 6, 5, 7, 89, 1, 5, 6, 5]\n",
      "None\n",
      "[89, 9, 8, 7, 6, 6, 5, 5, 5, 4, 1]\n"
     ]
    }
   ],
   "source": [
    "#sort methods:-\n",
    "list1 = [4,8,9,6,5,7,89,1,5,6,5]\n",
    "print(list1)\n",
    "print(list1.sort(reverse = True))#Descending order\n",
    "print(list1.sort())#Ascending Order\n",
    "print(list1)\n"
   ]
  },
  {
   "cell_type": "code",
   "execution_count": null,
   "id": "7ce25303",
   "metadata": {},
   "outputs": [],
   "source": []
  }
 ],
 "metadata": {
  "kernelspec": {
   "display_name": "Python 3 (ipykernel)",
   "language": "python",
   "name": "python3"
  },
  "language_info": {
   "codemirror_mode": {
    "name": "ipython",
    "version": 3
   },
   "file_extension": ".py",
   "mimetype": "text/x-python",
   "name": "python",
   "nbconvert_exporter": "python",
   "pygments_lexer": "ipython3",
   "version": "3.9.7"
  }
 },
 "nbformat": 4,
 "nbformat_minor": 5
}
