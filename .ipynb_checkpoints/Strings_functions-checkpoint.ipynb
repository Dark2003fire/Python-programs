{
 "cells": [
  {
   "cell_type": "code",
   "execution_count": 9,
   "id": "89c923d5",
   "metadata": {},
   "outputs": [
    {
     "name": "stdout",
     "output_type": "stream",
     "text": [
      "Python:\\\\Programming\\\\ JAVA Programming \\\\\n",
      "Python:\\ Programming\\ JAVA \\\n",
      "Hello  , World\n"
     ]
    }
   ],
   "source": [
    "#Raw String :-\n",
    "    #Python raw string is created  by prefixing with string literal 'r'\n",
    "    \n",
    "    \n",
    "print(r'Python:\\\\Programming\\\\ JAVA Programming \\\\')\n",
    "print('Python:\\\\ Programming\\\\ JAVA \\\\')\n",
    "\n",
    "print(u'Hello  , World')\n"
   ]
  },
  {
   "cell_type": "code",
   "execution_count": 19,
   "id": "762a56ed",
   "metadata": {},
   "outputs": [
    {
     "name": "stdout",
     "output_type": "stream",
     "text": [
      "Python programming\n",
      "******python programming******\n",
      "2\n",
      "b'python programming'\n",
      "python programming\n"
     ]
    }
   ],
   "source": [
    "#Built in String Methods\n",
    "\n",
    "#capitalize() :- Makes the first letter of the string capital\n",
    "\n",
    "\n",
    "s1 = \"python programming\"\n",
    "print(s1.capitalize())\n",
    "\n",
    "\n",
    "#center():-\n",
    "\n",
    "print(s1.center(30  ,'*'))\n",
    "\n",
    "\n",
    "#count():-\n",
    "print(s1.count('o'))\n",
    "\n",
    "#encode:-\n",
    "\n",
    "\n",
    "\n",
    "s1 = s1.encode()\n",
    "print(s1)\n",
    "s1 = s1.decode()\n",
    "print(s1)\n",
    "#print(s1.decode())\n",
    "\n",
    "\n",
    "\n",
    "\n",
    "\n"
   ]
  },
  {
   "cell_type": "code",
   "execution_count": 21,
   "id": "4c09e28b",
   "metadata": {},
   "outputs": [
    {
     "name": "stdout",
     "output_type": "stream",
     "text": [
      "False\n",
      "True\n"
     ]
    }
   ],
   "source": [
    "#endswith:-\n",
    "s2 = \"python programming is easy to learn but when you will do the practice\"\n",
    "print(s2.endswith('learn'))\n",
    "\n",
    "print(s2.endswith('practice'))"
   ]
  },
  {
   "cell_type": "code",
   "execution_count": 23,
   "id": "c81d048c",
   "metadata": {},
   "outputs": [
    {
     "name": "stdout",
     "output_type": "stream",
     "text": [
      "[(0, 'Mango'), (1, 'Pineapple'), (2, 'Apple'), (3, 'Grapes'), (4, 'Watermelon'), (5, 'Strawberry')]\n"
     ]
    }
   ],
   "source": [
    "#enumerate:-\n",
    "\n",
    "fruits = ['Mango' ,'Pineapple' ,'Apple' , 'Grapes' , 'Watermelon', 'Strawberry']\n",
    "\n",
    "fr = enumerate(fruits)\n",
    "print(list(fr))\n"
   ]
  },
  {
   "cell_type": "code",
   "execution_count": 36,
   "id": "0357b60c",
   "metadata": {},
   "outputs": [
    {
     "name": "stdout",
     "output_type": "stream",
     "text": [
      "8\n"
     ]
    }
   ],
   "source": [
    "#find\n",
    "\n",
    "s1 = 'Python Programming'\n",
    "print(s1.find(\"Pro\"))\n",
    "    "
   ]
  },
  {
   "cell_type": "code",
   "execution_count": 32,
   "id": "7a580ec4",
   "metadata": {},
   "outputs": [
    {
     "name": "stdout",
     "output_type": "stream",
     "text": [
      "True\n",
      "True\n",
      "True\n",
      "False\n",
      "False\n"
     ]
    }
   ],
   "source": [
    "#isalnum()\n",
    "\n",
    "s1 = \"python3\"\n",
    "print(s1.isalnum())\n",
    "\n",
    "\n",
    "s2 = \"Coachx\"\n",
    "print(s2.isalnum())\n",
    "\n",
    "\n",
    "s3 = \"1514\"\n",
    "print(s3.isalnum())\n",
    "\n",
    "\n",
    "\n",
    "s4 = \"Python Programming\"\n",
    "print(s4.isalnum())\n",
    "\n",
    "\n",
    "s5 = \"\\\\\\$$@@##\"\n",
    "print(s5.isalnum())\n",
    "\n",
    "\n"
   ]
  },
  {
   "cell_type": "code",
   "execution_count": 34,
   "id": "0afe2233",
   "metadata": {},
   "outputs": [
    {
     "name": "stdout",
     "output_type": "stream",
     "text": [
      "True\n",
      "False\n"
     ]
    }
   ],
   "source": [
    "#isalpha()\n",
    "\n",
    "s1 = \"coachx\"\n",
    "print(s1.isalpha())\n",
    "\n",
    "s2 = \"coachx123\"\n",
    "print(s2.isalpha())"
   ]
  },
  {
   "cell_type": "code",
   "execution_count": 35,
   "id": "20544725",
   "metadata": {},
   "outputs": [
    {
     "name": "stdout",
     "output_type": "stream",
     "text": [
      "False\n",
      "True\n"
     ]
    }
   ],
   "source": [
    "#isdigit():-\n",
    "\n",
    "s1 = \"Coachx\"\n",
    "print(s1.isdigit())\n",
    "\n",
    "s2 = \"1234566\"\n",
    "print(s2.isdigit())\n"
   ]
  },
  {
   "cell_type": "code",
   "execution_count": 39,
   "id": "62ba43b8",
   "metadata": {},
   "outputs": [
    {
     "name": "stdout",
     "output_type": "stream",
     "text": [
      "True\n",
      "False\n",
      "True\n",
      "False\n"
     ]
    }
   ],
   "source": [
    "# islower() and isupper()\n",
    "\n",
    "s1 = \"coachx\"\n",
    "print(s1.islower())\n",
    "print(s1.isupper())\n",
    "\n",
    "s2 = \"COACHX\"\n",
    "print(s2.isupper())\n",
    "print(s2.islower())"
   ]
  },
  {
   "cell_type": "code",
   "execution_count": 1,
   "id": "66320962",
   "metadata": {},
   "outputs": [
    {
     "name": "stdout",
     "output_type": "stream",
     "text": [
      "Enter a stringHello Python World\n",
      "Newly formed string is :\n",
      "Held\n"
     ]
    }
   ],
   "source": [
    "#Program to get a string made of first 2 and last 2 charcters from the given a string. if the string isless then 2 ,return  instead of empty string:-\n",
    "\n",
    "string = input(\"Enter a string\")\n",
    "count = 0\n",
    "\n",
    "for i in string:\n",
    "    count = count+1\n",
    "new = string[0:2]+string[count-2:count]\n",
    "print(\"Newly formed string is :\")\n",
    "print(new)"
   ]
  },
  {
   "cell_type": "code",
   "execution_count": 2,
   "id": "489c1385",
   "metadata": {},
   "outputs": [],
   "source": [
    "#Program to get a string from given string where all the occurences of its first Character have been changed to '$'\n"
   ]
  },
  {
   "cell_type": "code",
   "execution_count": 9,
   "id": "f2cd5303",
   "metadata": {},
   "outputs": [
    {
     "name": "stdout",
     "output_type": "stream",
     "text": [
      "Enter the 5 integers1 2 3 4 5 3 2 1 4\n",
      "Duplicate:1\n",
      "Duplicate:3\n",
      "Duplicate:4\n",
      "Unique:5\n",
      "Duplicate:2\n"
     ]
    }
   ],
   "source": [
    "\"\"\"\n",
    "Q5) Program which accepts 5 integers values and prints \"DUPLICATES\" if any of the values enteredare duplicates\n",
    "otherwise it prints \"ALL VALUES\". Let's integers are (4,5,6,2,4) the output \"DUPLICATES \" to be printed\n",
    "\n",
    "\n",
    "4,5,6,2,4\n",
    "\n",
    "DUPLICATES : 4\n",
    "UNIQUE : 5\n",
    "UNIQUE : 6\n",
    "UNIQUE : 2\n",
    "\n",
    "\n",
    "\"\"\"\n",
    "\n",
    "\n",
    "n = input(\"Enter the 5 integers\").split()\n",
    "\n",
    "s1 = set(n)\n",
    "\n",
    "for i in s1:\n",
    "    c = n.count(i)\n",
    "    if c>1:\n",
    "        print(\"Duplicate:\"+i)\n",
    "    else:\n",
    "        print(\"Unique:\"+i)\n",
    "        \n",
    "        \n",
    "        \n",
    "\n",
    "\n",
    "\n",
    "\n",
    "\n",
    "\n"
   ]
  },
  {
   "cell_type": "code",
   "execution_count": null,
   "id": "a3edfa14",
   "metadata": {},
   "outputs": [],
   "source": [
    "\n"
   ]
  }
 ],
 "metadata": {
  "kernelspec": {
   "display_name": "Python 3 (ipykernel)",
   "language": "python",
   "name": "python3"
  },
  "language_info": {
   "codemirror_mode": {
    "name": "ipython",
    "version": 3
   },
   "file_extension": ".py",
   "mimetype": "text/x-python",
   "name": "python",
   "nbconvert_exporter": "python",
   "pygments_lexer": "ipython3",
   "version": "3.9.7"
  }
 },
 "nbformat": 4,
 "nbformat_minor": 5
}
