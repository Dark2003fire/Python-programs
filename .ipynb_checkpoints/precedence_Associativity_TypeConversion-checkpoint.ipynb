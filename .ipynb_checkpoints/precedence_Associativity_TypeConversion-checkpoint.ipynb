{
 "cells": [
  {
   "cell_type": "code",
   "execution_count": 5,
   "id": "3f626fb5",
   "metadata": {},
   "outputs": [],
   "source": [
    "a = 20\n",
    "b = 10\n",
    "c = 15\n",
    "d = 5\n",
    "e = 0\n",
    "\n",
    "\n"
   ]
  },
  {
   "cell_type": "code",
   "execution_count": 6,
   "id": "a9fe5cc1",
   "metadata": {},
   "outputs": [
    {
     "name": "stdout",
     "output_type": "stream",
     "text": [
      "the value of (a+b)*c/d is  90.0\n"
     ]
    }
   ],
   "source": [
    "e = (a+b)*c/d\n",
    "print(\"the value of (a+b)*c/d is \" , e)\n",
    "\n",
    "\n",
    "#(30*15)/5"
   ]
  },
  {
   "cell_type": "code",
   "execution_count": 7,
   "id": "22d7c045",
   "metadata": {},
   "outputs": [
    {
     "name": "stdout",
     "output_type": "stream",
     "text": [
      "90.0\n"
     ]
    }
   ],
   "source": [
    "e = ((a+b)*c)/d\n",
    "\n",
    "print(e)"
   ]
  },
  {
   "cell_type": "code",
   "execution_count": 8,
   "id": "38a3a476",
   "metadata": {},
   "outputs": [
    {
     "name": "stdout",
     "output_type": "stream",
     "text": [
      "50.0\n"
     ]
    }
   ],
   "source": [
    "e = a+(b*c)/d\n",
    "print(e)\n",
    "\n",
    "#20+(150/5)"
   ]
  },
  {
   "cell_type": "code",
   "execution_count": 9,
   "id": "cee9c001",
   "metadata": {},
   "outputs": [
    {
     "name": "stdout",
     "output_type": "stream",
     "text": [
      "datatype of num_i <class 'int'>\n",
      "datatype of num_f <class 'float'>\n",
      "The value of new datatype is =  124.23\n",
      "datatype of new_num <class 'float'>\n"
     ]
    }
   ],
   "source": [
    "#implicit type Conversion\n",
    "\n",
    "num_i = 123\n",
    "\n",
    "num_f = 1.23\n",
    "\n",
    "\n",
    "new_num = num_i+num_f\n",
    "\n",
    "print(\"datatype of num_i\" ,type(num_i))\n",
    "print(\"datatype of num_f\" ,type(num_f))\n",
    "print(\"The value of new datatype is = \" ,new_num)\n",
    "print(\"datatype of new_num\" ,type(new_num))"
   ]
  },
  {
   "cell_type": "code",
   "execution_count": 2,
   "id": "8e037590",
   "metadata": {},
   "outputs": [
    {
     "name": "stdout",
     "output_type": "stream",
     "text": [
      "123.0\n",
      "(1.23+0j)\n",
      "523\n"
     ]
    }
   ],
   "source": [
    "#Explicit type Conversion\n",
    "\n",
    "\n",
    "num_i = 123\n",
    "\n",
    "num_f = 1.23\n",
    "\n",
    "i= 0\n",
    "num_s = \"400\"\n",
    "\n",
    "conv = int(num_s)\n",
    "conv2 = float(num_i)\n",
    "\n",
    "print(conv2)\n",
    "comp = complex(num_f  , i)\n",
    "\n",
    "\n",
    "print(comp)\n",
    "new_num = num_i+conv\n",
    "print(new_num)\n",
    "\n"
   ]
  },
  {
   "cell_type": "code",
   "execution_count": null,
   "id": "fe9705fb",
   "metadata": {},
   "outputs": [],
   "source": []
  }
 ],
 "metadata": {
  "kernelspec": {
   "display_name": "Python 3 (ipykernel)",
   "language": "python",
   "name": "python3"
  },
  "language_info": {
   "codemirror_mode": {
    "name": "ipython",
    "version": 3
   },
   "file_extension": ".py",
   "mimetype": "text/x-python",
   "name": "python",
   "nbconvert_exporter": "python",
   "pygments_lexer": "ipython3",
   "version": "3.9.7"
  }
 },
 "nbformat": 4,
 "nbformat_minor": 5
}
