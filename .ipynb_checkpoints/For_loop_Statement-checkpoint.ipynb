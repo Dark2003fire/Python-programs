{
 "cells": [
  {
   "cell_type": "code",
   "execution_count": 1,
   "id": "5291a3ec",
   "metadata": {},
   "outputs": [
    {
     "data": {
      "text/plain": [
       "'\\nSyntax of For Loop is :-\\n\\nfor iterating_variable in sequence:\\n    statements\\n'"
      ]
     },
     "execution_count": 1,
     "metadata": {},
     "output_type": "execute_result"
    }
   ],
   "source": [
    "#For Loop\n",
    "\n",
    "\"\"\"\n",
    "Syntax of For Loop is :-\n",
    "\n",
    "for iterating_variable in sequence:\n",
    "    print(iterating_variable)\n",
    "    statements\n",
    "\"\"\"\n",
    "\n"
   ]
  },
  {
   "cell_type": "code",
   "execution_count": 6,
   "id": "8f2ae074",
   "metadata": {},
   "outputs": [
    {
     "name": "stdout",
     "output_type": "stream",
     "text": [
      "1\n",
      "2\n",
      "3\n",
      "4\n",
      "5\n",
      "6\n",
      "7\n",
      "8\n",
      "9\n"
     ]
    }
   ],
   "source": [
    "list1 = [1,2,3,4,5,6,7,8,9]\n",
    "for x in list1:\n",
    "    print(x)"
   ]
  },
  {
   "cell_type": "code",
   "execution_count": 9,
   "id": "039d9228",
   "metadata": {},
   "outputs": [
    {
     "name": "stdout",
     "output_type": "stream",
     "text": [
      "[0, 1, 2, 3, 4]\n",
      "[0, 1, 2, 3, 4]\n",
      "[0, 1, 2, 3, 4]\n"
     ]
    }
   ],
   "source": [
    "# range() function:--\n",
    "\"\"\"\n",
    "Syntax of range():\n",
    "range(begin  , end , step)\n",
    "\n",
    "begin = 0 (by default)\n",
    "end = end-1\n",
    "step = -1 it is strating from last\n",
    "\"\"\"\n",
    "#l = [1,2,3,4,5,6,7,8,9]\n",
    "\n",
    "print(list(range(5)))\n",
    "\n",
    "\n",
    "\n"
   ]
  },
  {
   "cell_type": "code",
   "execution_count": 10,
   "id": "91d25c98",
   "metadata": {},
   "outputs": [
    {
     "name": "stdout",
     "output_type": "stream",
     "text": [
      "[1, 2, 3, 4]\n"
     ]
    }
   ],
   "source": [
    "print(list(range(1,5)))"
   ]
  },
  {
   "cell_type": "code",
   "execution_count": 14,
   "id": "7ec963e2",
   "metadata": {},
   "outputs": [
    {
     "name": "stdout",
     "output_type": "stream",
     "text": [
      "[1, 3, 5, 7, 9]\n"
     ]
    }
   ],
   "source": [
    "print(list(range(1,10,2)))\n"
   ]
  },
  {
   "cell_type": "code",
   "execution_count": 12,
   "id": "3fb56e08",
   "metadata": {},
   "outputs": [
    {
     "name": "stdout",
     "output_type": "stream",
     "text": [
      "[5, 4, 3, 2, 1]\n"
     ]
    }
   ],
   "source": [
    "print(list(range(5,0,-1)))"
   ]
  },
  {
   "cell_type": "code",
   "execution_count": 15,
   "id": "bff9c124",
   "metadata": {},
   "outputs": [
    {
     "name": "stdout",
     "output_type": "stream",
     "text": [
      "[-4, -3, -2, -1, 0, 1, 2, 3]\n"
     ]
    }
   ],
   "source": [
    "print(list(range(-4,4)))"
   ]
  },
  {
   "cell_type": "code",
   "execution_count": 16,
   "id": "ddd7f9e4",
   "metadata": {},
   "outputs": [
    {
     "name": "stdout",
     "output_type": "stream",
     "text": [
      "[-4, -2, 0, 2]\n"
     ]
    }
   ],
   "source": [
    "print(list(range(-4,4,2)))"
   ]
  },
  {
   "cell_type": "code",
   "execution_count": 17,
   "id": "73ad7466",
   "metadata": {},
   "outputs": [
    {
     "name": "stdout",
     "output_type": "stream",
     "text": [
      "[]\n"
     ]
    }
   ],
   "source": [
    "print(list(range(1,1)))"
   ]
  },
  {
   "cell_type": "code",
   "execution_count": 18,
   "id": "52ae5e37",
   "metadata": {},
   "outputs": [
    {
     "name": "stdout",
     "output_type": "stream",
     "text": [
      "[0]\n"
     ]
    }
   ],
   "source": [
    "print(list(range(0,1)))"
   ]
  },
  {
   "cell_type": "code",
   "execution_count": 20,
   "id": "7fe9f8d5",
   "metadata": {},
   "outputs": [
    {
     "name": "stdout",
     "output_type": "stream",
     "text": [
      "1 2 3 4 5 6 7 8 9 10 "
     ]
    }
   ],
   "source": [
    "#Print the numbner from 1 to 10 using range function\n",
    "\n",
    "\n",
    "for i in range(1,11):\n",
    "    print(i , end=' ')"
   ]
  },
  {
   "cell_type": "code",
   "execution_count": 8,
   "id": "dd98b779",
   "metadata": {},
   "outputs": [
    {
     "name": "stdout",
     "output_type": "stream",
     "text": [
      "Enter the Starting number:1\n",
      "Enter the ending number:20\n",
      "2\n",
      "3\n",
      "5\n",
      "7\n",
      "11\n",
      "13\n",
      "17\n",
      "19\n"
     ]
    }
   ],
   "source": [
    "#Program to print the prime numbers in between a range \n",
    "\n",
    "\n",
    "start = int(input(\"Enter the Starting number:\"))\n",
    "end = int(input(\"Enter the ending number:\"))\n",
    "for n in range(start , end+1):\n",
    "    if(n>1):\n",
    "        for i in range(2 ,n):\n",
    "            if(n%i)==0:\n",
    "                break\n",
    "        else:\n",
    "            print(n)\n",
    "                \n",
    "    \n"
   ]
  },
  {
   "cell_type": "code",
   "execution_count": 12,
   "id": "aae6b4ae",
   "metadata": {},
   "outputs": [
    {
     "name": "stdout",
     "output_type": "stream",
     "text": [
      "Enter a  number:123454\n",
      "123454  is not a prime nos\n"
     ]
    }
   ],
   "source": [
    "#Program to find the whether my nos is prime or not\n",
    "\n",
    "n= int(input(\"Enter a  number:\"))\n",
    "for i in range(2 ,n+1):\n",
    "    if(n%i)==0:\n",
    "        break\n",
    "if i==n:\n",
    "    print(n ,\" is a prime nos\")\n",
    "else:\n",
    "    print(n , \" is not a prime nos\")\n",
    "        \n",
    "        "
   ]
  },
  {
   "cell_type": "code",
   "execution_count": 13,
   "id": "9450c403",
   "metadata": {},
   "outputs": [
    {
     "name": "stdout",
     "output_type": "stream",
     "text": [
      "Current letter A\n",
      "Current letter h\n",
      "Current letter a\n"
     ]
    }
   ],
   "source": [
    "#Loop Control Statements\n",
    "\n",
    "\n",
    "for letter in 'Ahana':\n",
    "    if letter == 'n':\n",
    "        break\n",
    "    print(\"Current letter\" , letter)\n",
    "    "
   ]
  },
  {
   "cell_type": "code",
   "execution_count": 16,
   "id": "5e23bdda",
   "metadata": {},
   "outputs": [
    {
     "name": "stdout",
     "output_type": "stream",
     "text": [
      "Current variable value : 10\n",
      "Current variable value : 9\n",
      "Current variable value : 8\n",
      "Current variable value : 7\n",
      "Current variable value : 6\n",
      "out of the loop\n"
     ]
    }
   ],
   "source": [
    "var = 10\n",
    "while var>0:\n",
    "    print(\"Current variable value :\" ,var)\n",
    "    var = var-1\n",
    "    if var == 5:\n",
    "        break\n",
    "print(\"out of the loop\")"
   ]
  },
  {
   "cell_type": "code",
   "execution_count": 17,
   "id": "bcc7e9a3",
   "metadata": {},
   "outputs": [
    {
     "name": "stdout",
     "output_type": "stream",
     "text": [
      "Current letter A\n",
      "Current letter h\n",
      "Current letter a\n",
      "Current letter a\n"
     ]
    }
   ],
   "source": [
    "for letter in 'Ahana':\n",
    "    if letter == 'n':\n",
    "        continue\n",
    "    print(\"Current letter\" , letter)"
   ]
  },
  {
   "cell_type": "code",
   "execution_count": 19,
   "id": "306c6ecb",
   "metadata": {},
   "outputs": [
    {
     "name": "stdout",
     "output_type": "stream",
     "text": [
      "Current Vraibale value 4\n",
      "Current Vraibale value 2\n",
      "Current Vraibale value 1\n",
      "Current Vraibale value 0\n",
      "In  loop\n"
     ]
    }
   ],
   "source": [
    "var = 5\n",
    "while var >0:\n",
    "    var = var-1\n",
    "    if var == 3:\n",
    "        continue\n",
    "    print(\"Current Vraibale value\" , var)\n",
    "print(\"In  loop\")\n",
    "\n",
    "    "
   ]
  },
  {
   "cell_type": "code",
   "execution_count": 20,
   "id": "320c7081",
   "metadata": {},
   "outputs": [
    {
     "name": "stdout",
     "output_type": "stream",
     "text": [
      "Current letter A\n",
      "Current letter h\n",
      "Current letter a\n",
      "Current letter n\n",
      "Current letter a\n"
     ]
    }
   ],
   "source": [
    "for letter in 'Ahana':\n",
    "    if letter == 'n':\n",
    "        pass\n",
    "    print(\"Current letter\" , letter)"
   ]
  },
  {
   "cell_type": "code",
   "execution_count": 2,
   "id": "c74548d4",
   "metadata": {},
   "outputs": [
    {
     "name": "stdout",
     "output_type": "stream",
     "text": [
      "1 \n",
      "1 2 \n",
      "1 2 3 \n",
      "1 2 3 4 \n",
      "1 2 3 4 5 \n",
      "1 2 3 4 5 6 \n",
      "1 2 3 4 5 6 7 \n",
      "1 2 3 4 5 6 7 8 \n",
      "1 2 3 4 5 6 7 8 9 \n"
     ]
    }
   ],
   "source": [
    "#Nested For Loops:\n",
    "\n",
    "\"\"\"\n",
    "1\n",
    "12\n",
    "123\n",
    "1234\n",
    "\"\"\"\n",
    "\n",
    "for i in range(1,10):\n",
    "    for j in range(1 ,(i+1)):\n",
    "        print(j,end=\" \")\n",
    "    print()\n"
   ]
  },
  {
   "cell_type": "code",
   "execution_count": 1,
   "id": "40ab3203",
   "metadata": {},
   "outputs": [
    {
     "name": "stdout",
     "output_type": "stream",
     "text": [
      "1 \n",
      "1 2 \n",
      "1 2 3 \n",
      "1 2 3 4 \n"
     ]
    }
   ],
   "source": [
    "i =1\n",
    "while i<5:\n",
    "    j = 1\n",
    "    while j<(i+1):\n",
    "        print(j , end=' ')\n",
    "        j = j+1\n",
    "       \n",
    "    print()\n",
    "    i= i+1\n",
    "    "
   ]
  },
  {
   "cell_type": "code",
   "execution_count": 8,
   "id": "ff5ffa19",
   "metadata": {},
   "outputs": [
    {
     "name": "stdout",
     "output_type": "stream",
     "text": [
      "\n",
      "\n",
      "$ \n",
      "$ $ \n",
      "$ $ $ \n",
      "$ $ $ $ \n",
      "$ $ $ $ $ \n",
      "$ $ $ $ $ $ \n",
      "$ $ $ $ $ $ $ \n"
     ]
    }
   ],
   "source": [
    "for i in range(1,10):\n",
    "    for j in range(1 ,(i-1)):\n",
    "        print('$',end=\" \")\n",
    "    print()"
   ]
  },
  {
   "cell_type": "code",
   "execution_count": null,
   "id": "e1a9bcc2",
   "metadata": {},
   "outputs": [],
   "source": []
  }
 ],
 "metadata": {
  "kernelspec": {
   "display_name": "Python 3 (ipykernel)",
   "language": "python",
   "name": "python3"
  },
  "language_info": {
   "codemirror_mode": {
    "name": "ipython",
    "version": 3
   },
   "file_extension": ".py",
   "mimetype": "text/x-python",
   "name": "python",
   "nbconvert_exporter": "python",
   "pygments_lexer": "ipython3",
   "version": "3.9.7"
  }
 },
 "nbformat": 4,
 "nbformat_minor": 5
}
