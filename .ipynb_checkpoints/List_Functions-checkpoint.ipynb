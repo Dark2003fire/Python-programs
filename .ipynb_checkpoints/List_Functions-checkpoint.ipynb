{
 "cells": [
  {
   "cell_type": "code",
   "execution_count": 9,
   "id": "f2838355",
   "metadata": {},
   "outputs": [
    {
     "name": "stdout",
     "output_type": "stream",
     "text": [
      "[10, 20, 30, 40]\n",
      "40\n",
      "[10, 20, 30]\n",
      "30\n",
      "[10, 20]\n",
      "[10, 20, 30, 40, 50]\n",
      "[10, 20, 20, 30, 40, 50, 60, 70]\n",
      "None\n",
      "[10, 20, 30, 40, 50, 60, 70]\n"
     ]
    }
   ],
   "source": [
    "#Deleting list:-\n",
    "\n",
    "#pop() method\n",
    "\n",
    "\n",
    "list1 = [10,20,30,40]\n",
    "print(list1)\n",
    "print(list1.pop())\n",
    "\n",
    "print(list1)\n",
    "\n",
    "\n",
    "print(list1.pop(2))\n",
    "\n",
    "print(list1)\n",
    "\n",
    "\n",
    "\n",
    "#use a del keyword:-\n",
    "\n",
    "list2 = [10,20,30,40,50]\n",
    "print(list2)\n",
    "del list2\n",
    "#del list2[2]\n",
    "\n",
    "#print(list2)\n",
    "\n",
    "\n",
    "\n",
    "#remove method:-\n",
    "list3 = [10,20,20,30,40,50,60,70]\n",
    "print(list3)\n",
    "print(list3.remove(20))\n",
    "print(list3)\n"
   ]
  },
  {
   "cell_type": "code",
   "execution_count": 13,
   "id": "893e1708",
   "metadata": {},
   "outputs": [
    {
     "name": "stdout",
     "output_type": "stream",
     "text": [
      "[10, 20, 30, 40, 50]\n",
      "[20, 30, 40]\n",
      "[10, 30, 50]\n",
      "[50, 40, 30, 20, 10]\n",
      "[50, 40, 30, 20]\n"
     ]
    }
   ],
   "source": [
    "#Slicing of the list:-\n",
    "\n",
    "l1  = [10,20,30,40,50]\n",
    "\n",
    "print(l1)\n",
    "\n",
    "print(l1[1:4])\n",
    "\n",
    "\n",
    "print(l1[0:6:2])\n",
    "\n",
    "print(l1[::-1])\n",
    "\n",
    "\n",
    "print(l1[-1:0:-1])\n"
   ]
  },
  {
   "cell_type": "code",
   "execution_count": 19,
   "id": "85ef9d16",
   "metadata": {},
   "outputs": [
    {
     "name": "stdout",
     "output_type": "stream",
     "text": [
      "10\n",
      "20\n",
      "30\n",
      "40\n",
      "50\n",
      "[[1, 2, 3, 4], ['A', 'B', 'C', 'D'], ['!', '@', '#', '$']]\n",
      "1 2 3 4 \n",
      "\n",
      "A B C D \n",
      "\n",
      "! @ # $ \n",
      "\n"
     ]
    }
   ],
   "source": [
    "#Traverse in the list:-\n",
    "list1 = [10,20,30,40,50]\n",
    "\n",
    "for i in list1:\n",
    "    print(i)\n",
    "        \n",
    "\n",
    "\n",
    "\n",
    "nested_list = [[1,2,3,4],['A' ,'B' , 'C' , 'D'], ['!' , '@' , '#' , '$']]\n",
    "print(nested_list)\n",
    "for i in nested_list:\n",
    "    for j in i:\n",
    "        print(j , end = ' ')\n",
    "    print('\\n')\n",
    "\n",
    "        \n"
   ]
  },
  {
   "cell_type": "code",
   "execution_count": 22,
   "id": "a5f8497e",
   "metadata": {},
   "outputs": [
    {
     "name": "stdout",
     "output_type": "stream",
     "text": [
      "[10, 20, 30, 40, 50]\n",
      "50\n",
      "40\n",
      "30\n",
      "20\n",
      "10\n",
      "[1, 2, 3, 4, 5, 6]\n",
      "None\n",
      "[6, 5, 4, 3, 2, 1]\n"
     ]
    }
   ],
   "source": [
    "#Reversing of the list:--\n",
    "my_list = [10,20,30,40,50]\n",
    "print(my_list)\n",
    "for item in reversed(my_list):\n",
    "    print(item)\n",
    "    \n",
    "    \n",
    "list2 = [1,2,3,4,5,6]\n",
    "print(list2)\n",
    "print(list2.reverse())\n",
    "print(list2)"
   ]
  },
  {
   "cell_type": "code",
   "execution_count": 25,
   "id": "f4992001",
   "metadata": {},
   "outputs": [
    {
     "name": "stdout",
     "output_type": "stream",
     "text": [
      "[1, 2, 3, 4, 5, 6]\n",
      "[6, 5, 4, 3, 2, 1]\n"
     ]
    }
   ],
   "source": [
    "#Using the slicing methdos\n",
    "list2 = [1,2,3,4,5,6]\n",
    "print(list2)\n",
    "print(list2[::-1])\n",
    "#print(list2)\n",
    "\n"
   ]
  },
  {
   "cell_type": "code",
   "execution_count": 31,
   "id": "ec1a4403",
   "metadata": {},
   "outputs": [
    {
     "name": "stdout",
     "output_type": "stream",
     "text": [
      "5\n",
      "50\n",
      "[1, 2, 3, 4, 50, 'A', 'B', 'C', 'D']\n"
     ]
    }
   ],
   "source": [
    "#Functions of list or bult-in methods:-\n",
    "\n",
    "#len():- to find the lenght of the list\n",
    "list1 = [1,2,3,4,50]\n",
    "print(len(list1))\n",
    "\n",
    "\n",
    "#max():-\n",
    "print(max(list1))\n",
    "\n",
    "list2 = ['A' ,'B' ,'C' , 'D']\n",
    "\n",
    "list1.extend( list2)\n",
    "\n",
    "print(list1)"
   ]
  },
  {
   "cell_type": "code",
   "execution_count": null,
   "id": "c0183d7d",
   "metadata": {},
   "outputs": [],
   "source": []
  }
 ],
 "metadata": {
  "kernelspec": {
   "display_name": "Python 3 (ipykernel)",
   "language": "python",
   "name": "python3"
  },
  "language_info": {
   "codemirror_mode": {
    "name": "ipython",
    "version": 3
   },
   "file_extension": ".py",
   "mimetype": "text/x-python",
   "name": "python",
   "nbconvert_exporter": "python",
   "pygments_lexer": "ipython3",
   "version": "3.9.7"
  }
 },
 "nbformat": 4,
 "nbformat_minor": 5
}
