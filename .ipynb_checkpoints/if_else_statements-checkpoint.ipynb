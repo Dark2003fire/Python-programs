{
 "cells": [
  {
   "cell_type": "code",
   "execution_count": 2,
   "id": "2b01e963",
   "metadata": {},
   "outputs": [
    {
     "name": "stdout",
     "output_type": "stream",
     "text": [
      "Enter an integer number-4\n",
      "absolute value of  , y , =  4\n"
     ]
    }
   ],
   "source": [
    "#let's find the absolute value of any input number\n",
    "\n",
    "x = int(input(\"Enter an integer number: \"))\n",
    "y =x\n",
    "if(x<0):\n",
    "    x = -x\n",
    "print('absolute value of  , y , = ' ,x )\n",
    "\n",
    "\n",
    "\n"
   ]
  },
  {
   "cell_type": "code",
   "execution_count": 3,
   "id": "0ead354f",
   "metadata": {},
   "outputs": [
    {
     "name": "stdout",
     "output_type": "stream",
     "text": [
      " i is is less then 15\n",
      "this statement is not in if\n"
     ]
    }
   ],
   "source": [
    "i = 10\n",
    "if(i<15):\n",
    "    print(\"is is less the i n 15\")\n",
    "    print(\"this statement is not in if\")\n",
    "    \n",
    "    "
   ]
  },
  {
   "cell_type": "code",
   "execution_count": 5,
   "id": "628fb15e",
   "metadata": {},
   "outputs": [
    {
     "name": "stdout",
     "output_type": "stream",
     "text": [
      "Enter any number: 3\n",
      "3 is odd\n"
     ]
    }
   ],
   "source": [
    "#let's find the whether a number is even or oddd:--\n",
    "\n",
    "nos =int(input(\"Enter any number: \"))\n",
    "\n",
    "if(nos%2==0):\n",
    "    print(nos , \" is Even \")\n",
    "else:\n",
    "    print(nos , \"is odd\")\n",
    "\n",
    "    \n",
    "    \n",
    "    "
   ]
  },
  {
   "cell_type": "code",
   "execution_count": 11,
   "id": "899e1e6a",
   "metadata": {},
   "outputs": [
    {
     "name": "stdout",
     "output_type": "stream",
     "text": [
      "Enter year to be checked:2020\n",
      "2020 is a leap year\n"
     ]
    }
   ],
   "source": [
    "#To check if input year is leap year or  not :-\n",
    "\n",
    "year = int(input(\"Enter year to be checked:\"))\n",
    "\n",
    "if(year%4==0 or year%100==0 and year%400==0 ):\n",
    "    print(year ,\"is a leap year\")\n",
    "else:\n",
    "    print(year ,\"isn't a leap year\" )\n",
    "    \n",
    "    "
   ]
  },
  {
   "cell_type": "code",
   "execution_count": 14,
   "id": "2b41fe9c",
   "metadata": {},
   "outputs": [
    {
     "name": "stdout",
     "output_type": "stream",
     "text": [
      "price* quantity is less then  500\n",
      "price =  50\n",
      "Quantity =  5\n"
     ]
    }
   ],
   "source": [
    "price = 50\n",
    "quantity = 5\n",
    "if(price*quantity <500):\n",
    "    print(\"price* quantity is less then  500\")\n",
    "\n",
    "    print(\"price = \" , price)\n",
    "    print(\"Quantity = \" , quantity)"
   ]
  },
  {
   "cell_type": "code",
   "execution_count": 15,
   "id": "86f10c4f",
   "metadata": {},
   "outputs": [
    {
     "name": "stdout",
     "output_type": "stream",
     "text": [
      "price is 100\n"
     ]
    }
   ],
   "source": [
    "price = 100\n",
    "if(price>100):\n",
    "    print(\"price is greater than 100\")\n",
    "    \n",
    "if(price ==100):\n",
    "    print(\"price is 100\")\n",
    "    \n",
    "    \n",
    "if(price <100):\n",
    "    print(\"price is less then 100\")\n",
    "    \n",
    "    "
   ]
  },
  {
   "cell_type": "code",
   "execution_count": 19,
   "id": "ce7c1720",
   "metadata": {},
   "outputs": [
    {
     "name": "stdout",
     "output_type": "stream",
     "text": [
      "Enter the number235\n",
      "is is neither divisible by 2 nor by 3\n"
     ]
    }
   ],
   "source": [
    "i = int(input(\"Enter the number\"))\n",
    "if(i%2==0):\n",
    "    print(\"i is divisible by 2\")\n",
    "elif(i%3==0):\n",
    "    print(\"i is divisible by 3\")\n",
    "    \n",
    "else :\n",
    "    print(\"is is neither divisible by 2 nor by 3\")\n",
    "    \n",
    "    "
   ]
  },
  {
   "cell_type": "markdown",
   "id": "0dea9a5f",
   "metadata": {},
   "source": [
    "Assignment :- Your task is that check the divisibility of 10 nos using nested if else"
   ]
  },
  {
   "cell_type": "code",
   "execution_count": null,
   "id": "ebff4546",
   "metadata": {},
   "outputs": [],
   "source": [
    "room = \"bed\"\n",
    "area = int(input(\"Enter the area between 10 to 20 meter Squared\"))\n",
    "\n",
    "\n",
    "if room == \"kit\":\n",
    "    print(\"looking around in a kitchen:\")\n",
    "    \n",
    "elif room ==\"bed\":\n",
    "    print(\"looking around in a bedroom:\")\n",
    "    \n",
    "    \n",
    "elif room == \"Hall\":\n",
    "    print(\"looking around a hall\")\n",
    "    \n",
    "else:\n",
    "    print(\"Looking around elsewhere:\")\n",
    "    \n",
    "if area > 15:\n",
    "    print(\"It's a big place\")\n",
    "else:\n",
    "    print(\"It's a pretty small\")\n",
    "    \n",
    "    "
   ]
  }
 ],
 "metadata": {
  "kernelspec": {
   "display_name": "Python 3 (ipykernel)",
   "language": "python",
   "name": "python3"
  },
  "language_info": {
   "codemirror_mode": {
    "name": "ipython",
    "version": 3
   },
   "file_extension": ".py",
   "mimetype": "text/x-python",
   "name": "python",
   "nbconvert_exporter": "python",
   "pygments_lexer": "ipython3",
   "version": "3.9.7"
  }
 },
 "nbformat": 4,
 "nbformat_minor": 5
}
