{
 "cells": [
  {
   "cell_type": "code",
   "execution_count": 1,
   "id": "782623bb",
   "metadata": {},
   "outputs": [],
   "source": [
    "#Variable:-\n",
    "\n",
    "a = 10\n",
    "\n",
    "b = 10.36\n",
    "\n",
    "name = \"hitesh\"\n",
    "\n",
    "Student_Name = \"Durgesh\"\n",
    "\n",
    "students_Name = \"Prasanjeet\"\n",
    "\n",
    "Studentname = \"Gurubala\"\n",
    "\n",
    "studentName = \"Noor\"\n",
    "\n",
    "\n",
    "\n",
    "\n",
    "\n"
   ]
  },
  {
   "cell_type": "code",
   "execution_count": 7,
   "id": "7c447e84",
   "metadata": {},
   "outputs": [
    {
     "name": "stdout",
     "output_type": "stream",
     "text": [
      "3.14\n"
     ]
    }
   ],
   "source": [
    "#Constants :-\n",
    "\n",
    "PI = 3.14\n",
    "GRAVITY = 9.8\n",
    "\n",
    "print(PI)\n",
    "\n",
    "\n"
   ]
  },
  {
   "cell_type": "code",
   "execution_count": 11,
   "id": "7d096601",
   "metadata": {},
   "outputs": [
    {
     "name": "stdout",
     "output_type": "stream",
     "text": [
      "Enter your name \n",
      "Harminder\n",
      "The name of the person is  Harminder\n",
      "Enter your age\n",
      "25\n",
      " The age of the person is  25\n"
     ]
    }
   ],
   "source": [
    "#input functions:-\n",
    "\n",
    "print(\"Enter your name \")\n",
    "name = input()\n",
    "print(\"The name of the person is \"  ,name)\n",
    "\n",
    "\n",
    "\n",
    "print(\"Enter your age\")\n",
    "age = int(input())\n",
    "print(\"The age of the person is \",age)\n",
    "\n",
    "\n",
    "\n",
    "\n",
    "\n",
    "\n"
   ]
  },
  {
   "cell_type": "code",
   "execution_count": 16,
   "id": "58c7e50c",
   "metadata": {},
   "outputs": [
    {
     "name": "stdout",
     "output_type": "stream",
     "text": [
      "The values of x and y  is  10 20\n",
      "The values of x is= 10 and y is = 20\n",
      "The value of x is 10 and y is 20\n"
     ]
    }
   ],
   "source": [
    "#Formatting output:-\n",
    "x = 10\n",
    "y = 20\n",
    "\n",
    "print(\"The values of x and y  is \" , x , y)\n",
    "print(\"The values of x is=\" ,x , \"and y is =\" , y)\n",
    "\n",
    "\n",
    "print(\"The value of x is {} and y is {}\".format(x ,y))\n",
    "\n",
    "\n",
    "\n",
    "\n",
    "\n",
    "\"\"\"\n",
    "Take a input from the user as their name  \n",
    ",age  , and Salary and by using formatting output display there information\n",
    "\n",
    "\"\"\"\n",
    "\n",
    "\n"
   ]
  },
  {
   "cell_type": "code",
   "execution_count": 19,
   "id": "987da716",
   "metadata": {},
   "outputs": [
    {
     "data": {
      "text/plain": [
       "'\\nThis \\nis \\nMulti \\nline Comments\\n\\n'"
      ]
     },
     "execution_count": 19,
     "metadata": {},
     "output_type": "execute_result"
    }
   ],
   "source": [
    "#Comments :-\n",
    "\n",
    "# This is Single Line Comment\n",
    "\n",
    "\n",
    "\"\"\"\n",
    "This \n",
    "is \n",
    "Multi \n",
    "line Comments\n",
    "\n",
    "\"\"\""
   ]
  },
  {
   "cell_type": "code",
   "execution_count": 24,
   "id": "aa0886ee",
   "metadata": {},
   "outputs": [
    {
     "name": "stdout",
     "output_type": "stream",
     "text": [
      "Line_one line_two line_three\n",
      "['Monday ', 'Tuesday', 'wednesday']\n"
     ]
    }
   ],
   "source": [
    "#statements --\n",
    "\n",
    "#Explicit-Line Continuation:-\n",
    "Stat = \"Line_one \\\n",
    "line_two \\\n",
    "line_three\"\n",
    "\n",
    "print(Stat)\n",
    "\n",
    "\n",
    "#Implicit Line Cointuation :-\n",
    "\n",
    "Statements = ['Monday ' ,'Tuesday' , 'wednesday']\n",
    "print(Statements)"
   ]
  },
  {
   "cell_type": "code",
   "execution_count": null,
   "id": "46696d84",
   "metadata": {},
   "outputs": [],
   "source": [
    "\"\"\"\n",
    "#Prepare a Resume take basic details like phone nos , name ,age ,Qualifications , Profile summary and etc.\n",
    "by using Everything you have studied till so far.(You have to take input from User and Dispaly it that details.)\n",
    "\n",
    "\"\"\"\n",
    "\n",
    "\n"
   ]
  }
 ],
 "metadata": {
  "kernelspec": {
   "display_name": "Python 3 (ipykernel)",
   "language": "python",
   "name": "python3"
  },
  "language_info": {
   "codemirror_mode": {
    "name": "ipython",
    "version": 3
   },
   "file_extension": ".py",
   "mimetype": "text/x-python",
   "name": "python",
   "nbconvert_exporter": "python",
   "pygments_lexer": "ipython3",
   "version": "3.9.7"
  }
 },
 "nbformat": 4,
 "nbformat_minor": 5
}
