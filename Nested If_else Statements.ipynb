{
 "cells": [
  {
   "cell_type": "code",
   "execution_count": 3,
   "id": "456fadeb",
   "metadata": {},
   "outputs": [
    {
     "name": "stdout",
     "output_type": "stream",
     "text": [
      "Enter the first number:10\n",
      "Enter the second number:10\n",
      "Enter the third number:10\n",
      "largest number is : 10\n"
     ]
    }
   ],
   "source": [
    "#nested if else\n",
    "# Program to check the largest number among the three numbers\n",
    "x = int(input(\"Enter the first number:\"))\n",
    "y = int(input(\"Enter the second number:\"))\n",
    "z = int(input(\"Enter the third number:\"))\n",
    "\n",
    "\n",
    "if(x>y) and  (x>z):\n",
    "    l=x\n",
    "elif(y>x) and (y>z):\n",
    "    l=y\n",
    "else:\n",
    "    l=z\n",
    "    \n",
    "print(\"largest number is :\" ,l)\n",
    "\n",
    "\n"
   ]
  },
  {
   "cell_type": "code",
   "execution_count": 6,
   "id": "f0fbb381",
   "metadata": {},
   "outputs": [
    {
     "name": "stdout",
     "output_type": "stream",
     "text": [
      "What is your name?Simona\n",
      "You are good student\n"
     ]
    }
   ],
   "source": [
    "userName = input(\"What is your name?\")\n",
    "if userName  == \"Hitesh\":\n",
    "    print(\"You have such bad name:\")\n",
    "elif userName == \"Prasanjeet\":\n",
    "    print(\"you have such a good name\")\n",
    "elif userName == \"Neha\":\n",
    "    print(\"You have such a wonderful name\")\n",
    "    \n",
    "elif userName == \"Simona\":\n",
    "    print(\"You are good student\")\n",
    "    \n",
    "elif userName == \"Ahana\":\n",
    "    print(\"Ahana is aActive Girl\")\n",
    "    \n",
    "    \n",
    "else :\n",
    "    print(\"Everyone is good in the Coachx.live\")\n",
    "    \n",
    "    \n",
    "    "
   ]
  },
  {
   "cell_type": "code",
   "execution_count": 14,
   "id": "4968cc21",
   "metadata": {},
   "outputs": [
    {
     "name": "stdout",
     "output_type": "stream",
     "text": [
      "Welcome to Coachx.live\n",
      "What should you do? >sit up\n",
      "you wrench yourself  into a sitting position , excellent\n"
     ]
    }
   ],
   "source": [
    "print (\"Welcome to Coachx.live\")\n",
    "\n",
    "ans = input(\"What should you do? >\")\n",
    "if ans == \"Standup \" or ans == \"stand up\":\n",
    "    print(\"you are trying to stand up from  lying down , inthe pitch balck and fall into a bear trip on the floor\")\n",
    "    print(\"you aree dead  . Goood job genius\")\n",
    "    print(\"Game Over\")\n",
    "    input(\"press any key and hit enter to start again\")\n",
    "    \n",
    "elif ans == \"sit up\" or ans == \"Sit Up\":\n",
    "    print(\"you wrench yourself  into a sitting position , excellent\")\n",
    "\n",
    "elif ans == \"Look Around \" or ans == \"look around\":\n",
    "    print(\"you Look around  , it's dark . I told you it was dark already\")\n",
    "\n",
    "    \n",
    "else:\n",
    "    print(\"i said I was a simple Program , you are gonna have to try something else\")\n",
    "    \n",
    "    \n",
    "    "
   ]
  },
  {
   "cell_type": "code",
   "execution_count": 17,
   "id": "7ed1246f",
   "metadata": {},
   "outputs": [
    {
     "name": "stdout",
     "output_type": "stream",
     "text": [
      "Welcome to Coachx.live\n",
      "What should you do? >jhgjhg\n",
      "i said I was a simple Program , you are gonna have to try something else\n"
     ]
    }
   ],
   "source": [
    "print (\"Welcome to Coachx.live\")\n",
    "\n",
    "ans = input(\"What should you do? >\")\n",
    "if  (ans == \"Standup \" or ans == \"stand up\"):\n",
    "    print(\"you are trying to stand up from  lying down , inthe pitch balck and fall into a bear trip on the floor\")\n",
    "    print(\"you aree dead  . Goood job genius\")\n",
    "    print(\"Game Over\")\n",
    "    input(\"press any key and hit enter to start again\")\n",
    "    \n",
    "elif ans == \"sit up\" or ans == \"Sit Up\":\n",
    "    print(\"you wrench yourself  into a sitting position , excellent\")\n",
    "\n",
    "elif ans == \"Look Around \" or ans == \"look around\":\n",
    "    print(\"you Look around  , it's dark . I told you it was dark already\")\n",
    "\n",
    "    \n",
    "else:\n",
    "    print(\"i said I was a simple Program , you are gonna have to try something else\")"
   ]
  },
  {
   "cell_type": "code",
   "execution_count": 18,
   "id": "7634147b",
   "metadata": {},
   "outputs": [],
   "source": [
    "#Give a grade to the students if grade is >= 90 the A grade  ,if grade >=80 or grade <=70 the B grade"
   ]
  },
  {
   "cell_type": "code",
   "execution_count": 21,
   "id": "48ab8714",
   "metadata": {},
   "outputs": [
    {
     "data": {
      "text/plain": [
       "'\\nsynatx  of while loop :-\\n\\nwhile Condition :\\n    statements\\n    \\n    \\n    \\nthree things are mandatory in all the loops \\n\\n'"
      ]
     },
     "execution_count": 21,
     "metadata": {},
     "output_type": "execute_result"
    }
   ],
   "source": [
    "#Looping :-\n",
    "\"\"\"\n",
    "synatx  of while loop :-\n",
    "\n",
    "while Condition :\n",
    "    statements\n",
    "    \n",
    "    \n",
    "    \n",
    "three things are mandatory in all the loops \n",
    "1) Initialisation\n",
    "2) Condition\n",
    "3) Invrement (++)/ Decrement (--)\n",
    "\n",
    "\n",
    "\"\"\""
   ]
  },
  {
   "cell_type": "code",
   "execution_count": 22,
   "id": "972884cc",
   "metadata": {},
   "outputs": [
    {
     "name": "stdout",
     "output_type": "stream",
     "text": [
      "Count =  0\n",
      "Count =  1\n",
      "Count =  2\n",
      "Count =  3\n",
      "Count =  4\n",
      "Count =  5\n",
      "Count =  6\n",
      "Count =  7\n",
      "Count =  8\n",
      "Count =  9\n",
      "Count =  10\n"
     ]
    }
   ],
   "source": [
    "count = 0 # initialisation\n",
    "\n",
    "while count<=10: #condition\n",
    "    print(\"Count = \" , count)\n",
    "    count = count+1 # (count+= 1)  #increment \n",
    "    \n"
   ]
  },
  {
   "cell_type": "code",
   "execution_count": 1,
   "id": "54804521",
   "metadata": {},
   "outputs": [
    {
     "name": "stdout",
     "output_type": "stream",
     "text": [
      "Enter your number :123\n",
      "Reverse of a number is : 321\n"
     ]
    }
   ],
   "source": [
    "#Program to find the reverse of given numbers :\n",
    "n = int(input(\"Enter your number :\"))\n",
    "rev =0\n",
    "while(n>0):\n",
    "    rem = n%10\n",
    "    rev = rev*10+rem\n",
    "    n =int(n/10)\n",
    "    \n",
    "    \n",
    "print(\"Reverse of a number is :\" , rev)"
   ]
  },
  {
   "cell_type": "code",
   "execution_count": 3,
   "id": "1b69f13b",
   "metadata": {},
   "outputs": [
    {
     "name": "stdout",
     "output_type": "stream",
     "text": [
      "Enter the number:12245556\n",
      "Sum of numbers=  30\n"
     ]
    }
   ],
   "source": [
    "#Lets find the sum of digit of a given nos\n",
    "\n",
    "\n",
    "nos = int(input(\"Enter the number:\"))\n",
    "\n",
    "sum = 0\n",
    "while(nos>0):\n",
    "    rem = nos%10\n",
    "    sum = sum+rem\n",
    "    nos = int(nos/10)\n",
    "    \n",
    "print(\"Sum of numbers= \" ,sum)\n",
    "\n",
    "\n",
    "\n",
    "\n"
   ]
  },
  {
   "cell_type": "code",
   "execution_count": null,
   "id": "a1675f1f",
   "metadata": {},
   "outputs": [],
   "source": []
  }
 ],
 "metadata": {
  "kernelspec": {
   "display_name": "Python 3 (ipykernel)",
   "language": "python",
   "name": "python3"
  },
  "language_info": {
   "codemirror_mode": {
    "name": "ipython",
    "version": 3
   },
   "file_extension": ".py",
   "mimetype": "text/x-python",
   "name": "python",
   "nbconvert_exporter": "python",
   "pygments_lexer": "ipython3",
   "version": "3.9.7"
  }
 },
 "nbformat": 4,
 "nbformat_minor": 5
}
