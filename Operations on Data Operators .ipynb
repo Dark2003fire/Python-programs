{
 "cells": [
  {
   "cell_type": "code",
   "execution_count": 5,
   "id": "2a298e7d",
   "metadata": {},
   "outputs": [
    {
     "name": "stdout",
     "output_type": "stream",
     "text": [
      "10\n",
      "-10\n",
      "-11\n"
     ]
    },
    {
     "ename": "TypeError",
     "evalue": "bad operand type for unary ~: 'float'",
     "output_type": "error",
     "traceback": [
      "\u001b[1;31m---------------------------------------------------------------------------\u001b[0m",
      "\u001b[1;31mTypeError\u001b[0m                                 Traceback (most recent call last)",
      "Input \u001b[1;32mIn [5]\u001b[0m, in \u001b[0;36m<cell line: 13>\u001b[1;34m()\u001b[0m\n\u001b[0;32m      8\u001b[0m \u001b[38;5;28mprint\u001b[39m(\u001b[38;5;241m-\u001b[39mx)\n\u001b[0;32m     11\u001b[0m \u001b[38;5;28mprint\u001b[39m(\u001b[38;5;241m~\u001b[39mx)\n\u001b[1;32m---> 13\u001b[0m \u001b[38;5;28mprint\u001b[39m(\u001b[38;5;241;43m~\u001b[39;49m\u001b[43my\u001b[49m)\n",
      "\u001b[1;31mTypeError\u001b[0m: bad operand type for unary ~: 'float'"
     ]
    }
   ],
   "source": [
    "#Unary Operators :-\n",
    "\n",
    "x = 10\n",
    "y = 1.36\n",
    "print(+x)\n",
    "\n",
    "\n",
    "print(-x)\n",
    "\n",
    "\n",
    "print(~x)\n",
    "\n",
    "print(~y) # For float value it will not work\n",
    "\n",
    "\n"
   ]
  },
  {
   "cell_type": "code",
   "execution_count": 18,
   "id": "1b30c878",
   "metadata": {},
   "outputs": [
    {
     "name": "stdout",
     "output_type": "stream",
     "text": [
      "4\n",
      "-3\n",
      "8\n",
      "5.4\n",
      "72.6875\n",
      "-1.024793388429752\n"
     ]
    }
   ],
   "source": [
    "#Binary Operators \n",
    "\n",
    "print(1+3)\n",
    "\n",
    "\n",
    "print(3-6)\n",
    "\n",
    "print(2**3)\n",
    "\n",
    "\n",
    "print((3*9)/5)\n",
    "\n",
    "a  , b , c = 10 ,20 ,30.25\n",
    "\n",
    "print((a*b+c*3)/4)\n",
    "\n",
    "print((~(a+b)/c))"
   ]
  },
  {
   "cell_type": "code",
   "execution_count": 60,
   "id": "bb63dc7a",
   "metadata": {},
   "outputs": [
    {
     "name": "stdout",
     "output_type": "stream",
     "text": [
      "104\n",
      "78\n",
      "58.3\n",
      "55.6\n",
      "187.20000000000002\n",
      "64687603930.70121\n",
      "8.0\n",
      "26\n",
      "0\n",
      "2.0\n",
      "943.2800000000001\n"
     ]
    }
   ],
   "source": [
    "#Arithmetic Operators :-\n",
    "\n",
    "a  , b = 52 ,26\n",
    "c , d  = 3.6 , 6.3\n",
    "\n",
    "e = 'H'\n",
    "print(a+a)\n",
    "print(a+b)\n",
    "print(a+d)\n",
    "print(a+c)\n",
    "print(a*c)\n",
    "print(a**d)\n",
    "print(a//d)\n",
    "print(a-b)\n",
    "print(a%b)\n",
    "print(a/b)\n",
    "print((a+b*c)*d+c//a+b)"
   ]
  },
  {
   "cell_type": "code",
   "execution_count": 61,
   "id": "278b7336",
   "metadata": {},
   "outputs": [
    {
     "name": "stdout",
     "output_type": "stream",
     "text": [
      "30\n",
      "-26.4\n",
      "0\n"
     ]
    }
   ],
   "source": [
    "#Assignments Operators :-\n",
    "a = 10\n",
    "b = 20\n",
    "d= 40\n",
    "#b+=10\n",
    "b = 10+b\n",
    "#b = b+10\n",
    "print(b)\n",
    "c -=b #(C = c-10)\n",
    "print(c)\n",
    "\n",
    "d%=10 #()\n",
    "print(d)\n",
    "\n",
    "b**= 20\n",
    "\n",
    "c//=30\n",
    "\n",
    "e-=a\n",
    "\n",
    "\n"
   ]
  },
  {
   "cell_type": "code",
   "execution_count": 72,
   "id": "3f2aca1b",
   "metadata": {},
   "outputs": [
    {
     "name": "stdout",
     "output_type": "stream",
     "text": [
      "False\n",
      "False\n",
      "-2\n",
      "-1\n",
      "-2\n",
      "-1\n"
     ]
    }
   ],
   "source": [
    "#Relational Operators O/R Comparison Operators\n",
    "a = 10\n",
    "b = 20\n",
    "\n",
    "\n",
    "print(a==b)\n",
    "\n",
    "print(a>b)\n",
    "\n",
    "print(~(a<b))\n",
    "\n",
    "print(~(a>=b))  #When result is true it will print -2 and when it is false it will print -1\n",
    "\n",
    "print(~(a<=b))\n",
    "\n",
    "print(~(a>b))\n",
    "\n",
    "\n",
    "\n"
   ]
  },
  {
   "cell_type": "code",
   "execution_count": null,
   "id": "25eebcee",
   "metadata": {},
   "outputs": [],
   "source": []
  },
  {
   "cell_type": "code",
   "execution_count": null,
   "id": "9046b8f2",
   "metadata": {},
   "outputs": [],
   "source": []
  }
 ],
 "metadata": {
  "kernelspec": {
   "display_name": "Python 3 (ipykernel)",
   "language": "python",
   "name": "python3"
  },
  "language_info": {
   "codemirror_mode": {
    "name": "ipython",
    "version": 3
   },
   "file_extension": ".py",
   "mimetype": "text/x-python",
   "name": "python",
   "nbconvert_exporter": "python",
   "pygments_lexer": "ipython3",
   "version": "3.9.7"
  }
 },
 "nbformat": 4,
 "nbformat_minor": 5
}
