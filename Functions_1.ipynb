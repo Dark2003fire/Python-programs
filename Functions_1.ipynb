{
 "cells": [
  {
   "cell_type": "code",
   "execution_count": null,
   "id": "488da77b",
   "metadata": {},
   "outputs": [],
   "source": [
    "#Functions:--\n",
    "\"\"\"\n",
    "def function_name(parameter1 , paramter2 ,....):\n",
    "    // Here you will write functions\n",
    "    function body\n",
    "    \n",
    "    \n",
    "    return[expression]\n",
    "    \n",
    "\n",
    "function_name()\n",
    "\n",
    "\n",
    "\n",
    "\"\"\""
   ]
  },
  {
   "cell_type": "code",
   "execution_count": 9,
   "id": "4f1bf751",
   "metadata": {},
   "outputs": [
    {
     "name": "stdout",
     "output_type": "stream",
     "text": [
      "Hitesh\n",
      "hello this is my own function\n"
     ]
    }
   ],
   "source": [
    "def printstr(str):\n",
    "    \"This prints passed string into the function\"\n",
    "    print(str)\n",
    "    return\n",
    "\n",
    "printstr(\"Hitesh\")\n",
    "\n",
    "\n",
    "\n",
    "\n"
   ]
  },
  {
   "cell_type": "code",
   "execution_count": 10,
   "id": "889330d1",
   "metadata": {},
   "outputs": [
    {
     "name": "stdout",
     "output_type": "stream",
     "text": [
      "hello this is my own function\n"
     ]
    }
   ],
   "source": [
    "#1) Call a function that performs a task and has no return value\n",
    "def my_function():\n",
    "    print(\"hello this is my own function\")\n",
    "    \n",
    "my_function()\n",
    "\n"
   ]
  },
  {
   "cell_type": "code",
   "execution_count": 14,
   "id": "72d203e3",
   "metadata": {},
   "outputs": [
    {
     "name": "stdout",
     "output_type": "stream",
     "text": [
      "hello Hitesh\n",
      "hello Coachx\n",
      "hello aMIT\n"
     ]
    },
    {
     "data": {
      "text/plain": [
       "'Hitesh'"
      ]
     },
     "execution_count": 14,
     "metadata": {},
     "output_type": "execute_result"
    }
   ],
   "source": [
    "#2) Call a function with return value:-\n",
    "\n",
    "def my_function(name):\n",
    "    print(\"hello \" +name)\n",
    "    \n",
    "\n",
    "    \n",
    "my_function(\"Hitesh\")\n",
    "\n",
    "my_function(\"Coachx\")\n",
    "\n",
    "my_function(\"a\")\n",
    "    "
   ]
  },
  {
   "cell_type": "code",
   "execution_count": 16,
   "id": "98853367",
   "metadata": {},
   "outputs": [
    {
     "name": "stdout",
     "output_type": "stream",
     "text": [
      "Average of  3 and  4 is : 3.5\n",
      "Average of  5 and  5 is : 5.0\n"
     ]
    }
   ],
   "source": [
    "#3) Call a function with arguments:-\n",
    "\n",
    "def avg_number(x , y):\n",
    "    print(\"Average of \", x ,\"and \" ,y , \"is :\" , (x+y)/2)\n",
    "\n",
    "\n",
    "avg_number(3,4)\n",
    "avg_number(5,5)"
   ]
  },
  {
   "cell_type": "code",
   "execution_count": 17,
   "id": "738f103f",
   "metadata": {},
   "outputs": [
    {
     "data": {
      "text/plain": [
       "16"
      ]
     },
     "execution_count": 17,
     "metadata": {},
     "output_type": "execute_result"
    }
   ],
   "source": [
    "#4)calling a  function\n",
    "\n",
    "def square(x):\n",
    "    return x*x\n",
    "\n",
    "square(4)\n",
    "\n"
   ]
  },
  {
   "cell_type": "code",
   "execution_count": 19,
   "id": "e5d18aaf",
   "metadata": {},
   "outputs": [
    {
     "name": "stdout",
     "output_type": "stream",
     "text": [
      "20.5\n",
      "<class 'float'>\n"
     ]
    }
   ],
   "source": [
    "#Implicit type Conversion:-\n",
    "\n",
    "value1 = 10\n",
    "value2 = 10.5\n",
    "\n",
    "sum = value1+value2\n",
    "print(sum)\n",
    "\n",
    "print(type(sum))"
   ]
  },
  {
   "cell_type": "code",
   "execution_count": 26,
   "id": "7fcfb8f3",
   "metadata": {
    "scrolled": true
   },
   "outputs": [
    {
     "name": "stdout",
     "output_type": "stream",
     "text": [
      "18\n",
      "10010.0\n"
     ]
    }
   ],
   "source": [
    "#Explicit type Conversion:--\n",
    "\n",
    "s = \"10010\"\n",
    "c = int(s ,2 )\n",
    "print(c)\n",
    "\n",
    "f = float(s)\n",
    "\n",
    "print(f)\n",
    "\n"
   ]
  },
  {
   "cell_type": "code",
   "execution_count": 28,
   "id": "bc5dfe6a",
   "metadata": {},
   "outputs": [
    {
     "name": "stdout",
     "output_type": "stream",
     "text": [
      "('1', ',', '2', ',', '3')\n"
     ]
    }
   ],
   "source": [
    "#Your task:-\n",
    "\n",
    "x = '100010'\n",
    "\n",
    "x = tuple('1,2,3')\n",
    "print(x)\n"
   ]
  },
  {
   "cell_type": "code",
   "execution_count": 35,
   "id": "18e9d4d5",
   "metadata": {},
   "outputs": [
    {
     "name": "stdout",
     "output_type": "stream",
     "text": [
      "10\n",
      "120\n",
      "8\n",
      "10\n",
      "9\n",
      "9\n"
     ]
    }
   ],
   "source": [
    "\n",
    "\n",
    "\n",
    "print(min(10,20,30))\n",
    "\n",
    "print(max(120,20,30))\n",
    "\n",
    "print(pow(2,3))\n",
    "\n",
    "print(round(10.2356))\n",
    "\n",
    "\n",
    "print(abs(-9))\n",
    "print(abs(9))\n",
    "\n",
    "\n",
    "\n"
   ]
  },
  {
   "cell_type": "code",
   "execution_count": 40,
   "id": "43e12f16",
   "metadata": {},
   "outputs": [
    {
     "name": "stdout",
     "output_type": "stream",
     "text": [
      "3\n",
      "2\n",
      "0.15425144988758405\n",
      "-0.9880316240928618\n",
      "5343237290762.231\n",
      "30414093201713378043612608166064768844377641568960512000000000000\n",
      "2.6390573296152584\n",
      "12.0\n"
     ]
    }
   ],
   "source": [
    "#Maths Functions:-\n",
    "import math\n",
    "\n",
    "print(math.ceil(2.3))\n",
    "\n",
    "print(math.floor(2.3))\n",
    "\n",
    "print(math.cos(30))\n",
    "\n",
    "print(math.sin(30))\n",
    "\n",
    "print(math.cosh(30))\n",
    "\n",
    "\n",
    "print(math.factorial(50))\n",
    "\n",
    "\n",
    "print(math.log(14))\n",
    "\n",
    "print(math.sqrt(144))\n",
    "\n",
    "\n"
   ]
  },
  {
   "cell_type": "code",
   "execution_count": 42,
   "id": "771d13c4",
   "metadata": {},
   "outputs": [
    {
     "name": "stdout",
     "output_type": "stream",
     "text": [
      "343\n"
     ]
    }
   ],
   "source": [
    "#Parameters and Arguments :--\n",
    "\n",
    "# There are two types of Parameters :--\n",
    "\"\"\"\n",
    "1) formal Parameters:-\n",
    "\n",
    "\n",
    "2) Actual Paramters:--\n",
    "\n",
    "\n",
    "\n",
    "\n",
    "\n",
    "\"\"\"\n",
    "def cube(x):  #formal parameter\n",
    "    return x*x*x\n",
    "\n",
    "result = cube(7)  # actual parameters\n",
    "print(result)\n"
   ]
  },
  {
   "cell_type": "code",
   "execution_count": 44,
   "id": "a99cd6c5",
   "metadata": {},
   "outputs": [
    {
     "name": "stdout",
     "output_type": "stream",
     "text": [
      "Coachx\n",
      "Name Hitesh\n",
      "Age 24\n"
     ]
    }
   ],
   "source": [
    "\n",
    "\n",
    "\"\"\"\n",
    "There are two types of Arguments :-\n",
    "\n",
    "Function Arguments:-\n",
    "\n",
    "1) Keyword Arguments::--\n",
    "\n",
    "2) Default Arguments:--\n",
    "\n",
    "\n",
    "3) Required Arguments :-\n",
    "\n",
    "4) Varaibale -length Arguments :--\n",
    "\n",
    "\n",
    "\n",
    "\"\"\"\n",
    "#Keyword Arguments :--\n",
    "def func(str):\n",
    "    \"this prints strings\"\n",
    "    print(str)\n",
    "    return\n",
    "\n",
    "func(str = \"Coachx\")\n",
    "\n",
    "\n",
    "\n",
    "def mydata(name   , age):\n",
    "    print(\"Name\"  ,name)\n",
    "    print(\"Age\" , age)\n",
    "    return\n",
    "mydata(age = 24  ,name = \"Hitesh\")\n",
    "\n"
   ]
  },
  {
   "cell_type": "code",
   "execution_count": 45,
   "id": "de73080c",
   "metadata": {},
   "outputs": [
    {
     "name": "stdout",
     "output_type": "stream",
     "text": [
      "Name Hitesh\n",
      "Age 24\n",
      "Name Simona\n",
      "Age 50\n"
     ]
    }
   ],
   "source": [
    "#Default Arguments :-\n",
    "\n",
    "\n",
    "def mydata(name   , age = 50):\n",
    "    print(\"Name\"  ,name)\n",
    "    print(\"Age\" , age)\n",
    "    return\n",
    "mydata(age = 24  ,name = \"Hitesh\")\n",
    "mydata(name = \"Simona\")\n"
   ]
  },
  {
   "cell_type": "code",
   "execution_count": 47,
   "id": "7698cd3b",
   "metadata": {},
   "outputs": [
    {
     "name": "stdout",
     "output_type": "stream",
     "text": [
      "Coachx\n"
     ]
    }
   ],
   "source": [
    "#required Arguments :-\n",
    "\n",
    "def printme(str):\n",
    "    \"this is required args\"\n",
    "    print(str)\n",
    "    return\n",
    "\n",
    "printme(\"Coachx\")\n",
    "\n"
   ]
  },
  {
   "cell_type": "code",
   "execution_count": 52,
   "id": "4694cf96",
   "metadata": {},
   "outputs": [
    {
     "data": {
      "text/plain": [
       "210"
      ]
     },
     "execution_count": 52,
     "metadata": {},
     "output_type": "execute_result"
    }
   ],
   "source": [
    "#Variable_length Arguments:-\n",
    "\n",
    "\n",
    "def sum(*args):\n",
    "    resultfinal = 0\n",
    "    for arg in args:\n",
    "        resultfinal = resultfinal+arg\n",
    "    return resultfinal\n",
    "\n",
    "\n",
    "\n",
    "sum(10, 20)\n",
    "\n",
    "sum(10,20,30)\n",
    "\n",
    "sum(10,20,30,40,50,60)\n",
    "\n",
    "\n",
    "\n"
   ]
  },
  {
   "cell_type": "code",
   "execution_count": null,
   "id": "dd2da5cb",
   "metadata": {},
   "outputs": [],
   "source": [
    "#1) write a function to program find the largest among the three numbers\n",
    "\n",
    "#2) Program to find HCF and GCD\n",
    "\n",
    "\n",
    "#3) Do all Explicit type Conversion\n",
    "\n",
    "#4)Proram to find afactors of a number\n",
    "\n",
    "#5) program to find the sum of natural numbers:-\n",
    "\n",
    "\n"
   ]
  }
 ],
 "metadata": {
  "kernelspec": {
   "display_name": "Python 3 (ipykernel)",
   "language": "python",
   "name": "python3"
  },
  "language_info": {
   "codemirror_mode": {
    "name": "ipython",
    "version": 3
   },
   "file_extension": ".py",
   "mimetype": "text/x-python",
   "name": "python",
   "nbconvert_exporter": "python",
   "pygments_lexer": "ipython3",
   "version": "3.9.7"
  }
 },
 "nbformat": 4,
 "nbformat_minor": 5
}
